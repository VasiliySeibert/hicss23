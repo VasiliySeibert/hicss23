{
 "cells": [
  {
   "attachments": {},
   "cell_type": "markdown",
   "id": "db88c670",
   "metadata": {},
   "source": [
    "# Eval of Paper : ...\n",
    "https://parts-of-speech.info"
   ]
  },
  {
   "attachments": {},
   "cell_type": "markdown",
   "id": "8b0e207d",
   "metadata": {},
   "source": [
    "### Read in Files\n",
    "This function takes in a path to a directory (all_classes, beschreibung_txt, filter_1, all_nouns) and returns:\n",
    "\n",
    "1) name of the example\n",
    "2) example text\n",
    "3) ground truth labels\n",
    "4) texts after filter 1 (according to [compare] paper)\n",
    "5) all nouns (all candidates for classes)"
   ]
  },
  {
   "cell_type": "code",
   "execution_count": 1,
   "id": "2e24a423",
   "metadata": {},
   "outputs": [],
   "source": [
    "import os\n"
   ]
  },
  {
   "cell_type": "code",
   "execution_count": 2,
   "id": "8162df4c",
   "metadata": {},
   "outputs": [],
   "source": [
    "#examples_dir = \"/Users/vasiliyseibert/Library/Mobile Documents/com~apple~CloudDocs/Work/RESEARCH/requirements_extraction/DATA/eng/\"\n",
    "examples_dir = \"/Users/vs21/Library/Mobile Documents/com~apple~CloudDocs/Work/RESEARCH/requirements_extraction/DATA/eng/\"\n",
    "\n",
    "def get_examples(examples_dir, test=True, test_folder=\"RentAConsult\"):\n",
    "    #returns a list of 1) name of the example, 2) example text and 3) labels (ground truth) and 4) example text after filter\n",
    "    example_names = os.listdir(examples_dir)\n",
    "    examples = []\n",
    "    for name in example_names:\n",
    "        # remove this after Pipeline complete\n",
    "        if name != test_folder and test == True:\n",
    "            continue\n",
    "        with open(examples_dir + \"/\" + name + \"/beschreibung_txt\", 'r') as file:\n",
    "            example_text = file.readlines() # return example text\n",
    "        with open(examples_dir + \"/\" + name + \"/all_classes.txt\", 'r') as file:\n",
    "            example_labels = file.readlines() # return ground truth labels\n",
    "            example_labels = example_labels[0].strip()\n",
    "            example_labels = example_labels.split(\",\")\n",
    "        with open(examples_dir + \"/\" + name + \"/filter_1.txt\", 'r') as file:\n",
    "            example_sentence_filter = file.readlines() # return text after filer 1 (siehe paper)\n",
    "            example_sentence_filter = [sentence.replace(\"\\n\", \"\") for sentence in example_sentence_filter]\n",
    "            example_sentence_filter = \" \".join(example_sentence_filter)\n",
    "        examples.append([name, example_text[0], example_labels, example_sentence_filter])\n",
    "            \n",
    "    return examples\n",
    "    \n",
    "            \n",
    "        "
   ]
  },
  {
   "cell_type": "code",
   "execution_count": 3,
   "id": "3a28a79e",
   "metadata": {},
   "outputs": [
    {
     "data": {
      "text/plain": [
       "['RentAConsult',\n",
       " 'The service company \"Rent a Consult\" is planning to rethink its HR System. Up until now, every rentable consultant was documented in Word Documents. These Documents contained the Name of the consultant, available locations and qualifications in plain text. On the next system, a potential customer must be able to search and access all available consultants for his order through a website. The user must be able to filter the consultants by the criteria of his choice, like qualifications. The user must be able to create a user account. If a user decides to create a user account, he must enter an IBAN.',\n",
       " ['user', 'account', 'consultant', 'order', 'qualification', 'website'],\n",
       " 'Service company \"Rent a Consult\" is planning to rethink its HR System. Rent a Consult is a service company. Consultant was documented in Word Documents. Documents contained the Name of the consultant. Documents contained the locations of the consultant. Documents contained the qualifications of the consultant. Customer search consultants through website. Customer access consultants through website. Customer order consultants through website. User filters consultants. User creates account.']"
      ]
     },
     "execution_count": 3,
     "metadata": {},
     "output_type": "execute_result"
    }
   ],
   "source": [
    "examples = get_examples(examples_dir)\n",
    "examples[0]"
   ]
  },
  {
   "attachments": {},
   "cell_type": "markdown",
   "id": "f6bec4ad",
   "metadata": {},
   "source": [
    "### stanford core nlp\n",
    "method receives a sentence and returns : Normal Text, lemmatized text, POS."
   ]
  },
  {
   "cell_type": "code",
   "execution_count": 2,
   "id": "4d638d93",
   "metadata": {},
   "outputs": [
    {
     "data": {
      "application/vnd.jupyter.widget-view+json": {
       "model_id": "4c97f0318380421aa817c5bc7f9bbfe7",
       "version_major": 2,
       "version_minor": 0
      },
      "text/plain": [
       "Downloading https://raw.githubusercontent.com/stanfordnlp/stanza-resources/main/resources_1.4.1.json:   0%|   …"
      ]
     },
     "metadata": {},
     "output_type": "display_data"
    },
    {
     "name": "stderr",
     "output_type": "stream",
     "text": [
      "2023-05-26 13:06:32 INFO: Downloading default packages for language: en (English) ...\n",
      "2023-05-26 13:06:33 INFO: File exists: /Users/vs21/stanza_resources/en/default.zip\n",
      "2023-05-26 13:06:36 INFO: Finished downloading models and saved to /Users/vs21/stanza_resources.\n",
      "2023-05-26 13:06:36 INFO: Checking for updates to resources.json in case models have been updated.  Note: this behavior can be turned off with download_method=None or download_method=DownloadMethod.REUSE_RESOURCES\n"
     ]
    },
    {
     "data": {
      "application/vnd.jupyter.widget-view+json": {
       "model_id": "a60438128d424996b4017beeca2f0a19",
       "version_major": 2,
       "version_minor": 0
      },
      "text/plain": [
       "Downloading https://raw.githubusercontent.com/stanfordnlp/stanza-resources/main/resources_1.4.1.json:   0%|   …"
      ]
     },
     "metadata": {},
     "output_type": "display_data"
    },
    {
     "name": "stderr",
     "output_type": "stream",
     "text": [
      "2023-05-26 13:06:37 INFO: Loading these models for language: en (English):\n",
      "========================\n",
      "| Processor | Package  |\n",
      "------------------------\n",
      "| tokenize  | combined |\n",
      "| pos       | combined |\n",
      "| lemma     | combined |\n",
      "| depparse  | combined |\n",
      "========================\n",
      "\n",
      "2023-05-26 13:06:37 INFO: Use device: cpu\n",
      "2023-05-26 13:06:37 INFO: Loading: tokenize\n",
      "2023-05-26 13:06:37 INFO: Loading: pos\n",
      "2023-05-26 13:06:37 INFO: Loading: lemma\n",
      "2023-05-26 13:06:37 INFO: Loading: depparse\n",
      "2023-05-26 13:06:37 INFO: Done loading processors!\n"
     ]
    }
   ],
   "source": [
    "import stanza\n",
    "stanza.download('en')       # This downloads the English models for the neural pipeline\n",
    "nlp = stanza.Pipeline('en', processors='tokenize,pos,lemma,depparse') # This sets up a default neural pipeline in English\n"
   ]
  },
  {
   "cell_type": "code",
   "execution_count": 3,
   "id": "88df6286",
   "metadata": {},
   "outputs": [],
   "source": [
    "test_sentence = \"Documents contained the Name of the consultant.\"\n",
    "def core_nlp(sentence):\n",
    "    # method receives a sentence and returns : Normal Text, lemmatized text, POS.\n",
    "    result_list = []\n",
    "    doc = nlp(sentence)\n",
    "    for sentence in doc.sentences:\n",
    "        for word in sentence.words:\n",
    "            result_list.append([word.text, word.lemma, word.pos, word.deprel, word.head])\n",
    "            # deprel doku : https://stanfordnlp.github.io/stanza/depparse.html\n",
    "    return result_list\n"
   ]
  },
  {
   "cell_type": "code",
   "execution_count": 4,
   "id": "eac31372",
   "metadata": {},
   "outputs": [
    {
     "data": {
      "text/plain": [
       "[['Documents', 'document', 'NOUN', 'root', 0],\n",
       " ['contained', 'contain', 'VERB', 'acl', 1],\n",
       " ['the', 'the', 'DET', 'det', 4],\n",
       " ['Name', 'name', 'NOUN', 'obj', 2],\n",
       " ['of', 'of', 'ADP', 'case', 7],\n",
       " ['the', 'the', 'DET', 'det', 7],\n",
       " ['consultant', 'consultant', 'NOUN', 'nmod', 4],\n",
       " ['.', '.', 'PUNCT', 'punct', 1]]"
      ]
     },
     "execution_count": 4,
     "metadata": {},
     "output_type": "execute_result"
    }
   ],
   "source": [
    "nlp_results = core_nlp(test_sentence)\n",
    "nlp_results"
   ]
  },
  {
   "attachments": {},
   "cell_type": "markdown",
   "id": "35f90d91",
   "metadata": {},
   "source": [
    "### get all nouns (potential candidates for classes)\n",
    "extracted from the original text"
   ]
  },
  {
   "cell_type": "code",
   "execution_count": 5,
   "id": "5f0a94e7",
   "metadata": {},
   "outputs": [],
   "source": [
    "def get_all_nouns(nlp_results):\n",
    "    nouns = []\n",
    "    for word in nlp_results:\n",
    "        normal_word = word[0]\n",
    "        lemma_word = word[1]\n",
    "        pos_word = word[2]\n",
    "        deprel_word = word[3]\n",
    "        if pos_word == \"NOUN\":\n",
    "            nouns.append(lemma_word)\n",
    "    return list(set(nouns))"
   ]
  },
  {
   "cell_type": "code",
   "execution_count": 6,
   "id": "da6e148c",
   "metadata": {},
   "outputs": [
    {
     "ename": "NameError",
     "evalue": "name 'examples' is not defined",
     "output_type": "error",
     "traceback": [
      "\u001b[0;31m---------------------------------------------------------------------------\u001b[0m",
      "\u001b[0;31mNameError\u001b[0m                                 Traceback (most recent call last)",
      "\u001b[1;32m/Users/vs21/hicss23/experiment.ipynb Cell 12\u001b[0m in \u001b[0;36m<cell line: 1>\u001b[0;34m()\u001b[0m\n\u001b[0;32m----> <a href='vscode-notebook-cell:/Users/vs21/hicss23/experiment.ipynb#X14sZmlsZQ%3D%3D?line=0'>1</a>\u001b[0m examples[\u001b[39m0\u001b[39m][\u001b[39m1\u001b[39m]\n",
      "\u001b[0;31mNameError\u001b[0m: name 'examples' is not defined"
     ]
    }
   ],
   "source": [
    "examples[0][1]"
   ]
  },
  {
   "cell_type": "code",
   "execution_count": 9,
   "id": "e9ba54cc",
   "metadata": {},
   "outputs": [
    {
     "data": {
      "text/plain": [
       "['user',\n",
       " 'criterion',\n",
       " 'consultant',\n",
       " 'qualification',\n",
       " 'order',\n",
       " 'choice',\n",
       " 'website',\n",
       " 'document',\n",
       " 'hr',\n",
       " 'company',\n",
       " 'account',\n",
       " 'system',\n",
       " 'name',\n",
       " 'service',\n",
       " 'text',\n",
       " 'customer',\n",
       " 'location']"
      ]
     },
     "execution_count": 9,
     "metadata": {},
     "output_type": "execute_result"
    }
   ],
   "source": [
    "nlp_result = core_nlp(examples[0][1])\n",
    "nouns = get_all_nouns(nlp_result)\n",
    "nouns"
   ]
  },
  {
   "attachments": {},
   "cell_type": "markdown",
   "id": "471d4ac5",
   "metadata": {},
   "source": [
    "### Rule based extraction according to [compare]\n",
    "This function takes in the example texts (after Filter 1) and returns \n",
    "* extracted classes\n",
    "* extracted attributes\n",
    "* extracted relationships\n",
    "\n",
    "universal dependencies link : https://universaldependencies.org/u/pos/"
   ]
  },
  {
   "cell_type": "code",
   "execution_count": 10,
   "id": "10f23b30",
   "metadata": {},
   "outputs": [
    {
     "data": {
      "text/plain": [
       "[['Documents', 'document', 'NOUN', 'root', 0],\n",
       " ['contained', 'contain', 'VERB', 'acl', 1],\n",
       " ['the', 'the', 'DET', 'det', 4],\n",
       " ['Name', 'name', 'NOUN', 'obj', 2],\n",
       " ['of', 'of', 'ADP', 'case', 7],\n",
       " ['the', 'the', 'DET', 'det', 7],\n",
       " ['consultant', 'consultant', 'NOUN', 'nmod', 4],\n",
       " ['.', '.', 'PUNCT', 'punct', 1]]"
      ]
     },
     "execution_count": 10,
     "metadata": {},
     "output_type": "execute_result"
    }
   ],
   "source": [
    "# EXAMPLE NLP RESULTS\n",
    "nlp_results"
   ]
  },
  {
   "cell_type": "code",
   "execution_count": 41,
   "id": "f848e77c",
   "metadata": {},
   "outputs": [],
   "source": [
    "def test_rules():\n",
    "    # test sentences für die Funktion rule_based_extraction\n",
    "    \n",
    "    # RULE 14: If If a sentence has no verbs (VP), then discard it.\n",
    "    # The sentence \"Ice cream is great!\" has no verbs and should be discarded\n",
    "    test_input = \"Ice cream is great!\"\n",
    "    nlp_result = core_nlp(test_input)\n",
    "    rule_result = rule_based_extraction(nlp_result)\n",
    "    test_result = rule_result[\"classes\"] == [] and rule_result[\"methods\"] == []\n",
    "    print(f\"Rule 14 Test passed : {test_result}\")\n",
    "    \n",
    "    # RULE 15: If a prepositional phrase (PP), adjective phrase (ADJP), determiner (DT), or adjective (JJ) precedes the subject of the sentence, then discard that phrases.\n",
    "    test_input = \"the user has some feedback\"\n",
    "    nlp_result = core_nlp(test_input)\n",
    "    rule_result = rule_based_extraction(nlp_result)\n",
    "    test_result = rule_result[\"classes\"] == [] and rule_result[\"methods\"] == []\n",
    "    print(f\"Rule 15 Test passed : {test_result}\")\n",
    "    \n",
    "    # C-Rule 1: Extract the common nouns (e.g., Person, User) <NN> tags, and proper nouns (e.g., System, Human) <NNP> tags from the text and map them to classes.\n",
    "    test_input = \"User operates System.\"\n",
    "    nlp_result = core_nlp(test_input)\n",
    "    rule_result = rule_based_extraction(nlp_result)\n",
    "    test_result = rule_result[\"classes\"] == ['user', 'system']\n",
    "    print(f\"C-Rule 1 Test passed : {test_result}\")\n",
    "    \n",
    "    # C-Rule 2: If a sentence in (Subject–Verb–Object); Subject <nsubj> and Object <dobj> forms are mapped to candidate classes.\n",
    "    test_input = \"Sam goes Home.\"\n",
    "    nlp_result = core_nlp(test_input)\n",
    "    rule_result = rule_based_extraction(nlp_result)\n",
    "    test_result = rule_result[\"classes\"] == ['Sam', 'Home'] \n",
    "    print(f\"C-Rule 2 Test passed : {test_result}\")\n",
    "    \n",
    "    # C-Rule 3: If the noun is post-fixed by preposition <IN> tag, then ignore it as a class and map it as a part of a method, e.g., System records details of a candidate. “System” and “candidate” are candidate classes, and “records details” is a method of the class “system”.\n",
    "    test_input = \"System records details of a candidate.\"\n",
    "    nlp_result = core_nlp(test_input)\n",
    "    rule_result = rule_based_extraction(nlp_result)\n",
    "    test_result = rule_result[\"classes\"] == ['system', 'candidate'] and rule_result[\"methods\"] == [('system', 'record detail')]\n",
    "    print(f\"C-Rule 3 Test passed : {test_result}\")\n",
    "    \n",
    "    \n",
    "    # C-Rule 4: Identify candidate classes from the ‘IsA’ relationship (inheritance), e.g., EU-Rent is a car rental company. EU-Rent is a subclass of Car Rental Company.\n",
    "    # not implemented because conflict with rule 14.\n",
    "    \n",
    "    # AS-Rule 1: Extract the prepositional phrases from (<VB>+ <IN> or <To>) tags among noun phrases (two classes), such as “has”, “next to”, “part of”, “works for”, “contained in”, “talk to”, “order to”, and identify the noun phrases associated with it. These phrases are mapped to association relationships and the associated verb is used as the caption of association.\n",
    "    test_input = \"Sam works for the store\"\n",
    "    nlp_result = core_nlp(test_input)\n",
    "    rule_result = rule_based_extraction(nlp_result)\n",
    "    test_result = rule_result[\"association\"] == [('Sam', 'store')]\n",
    "    print(f\"AS-Rule 1 Test passed : {test_result}\")\n",
    "    \n",
    "    \n",
    "    # AS-Rule 3: If a sentence is in the form (Noun+Verb+ Noun) where both nouns are candidate classes, then the verb is an association relationship. Similarly, if the sentence is in the form of (Subject-Predicate-Object), then there is an association between subject and object.\n",
    "    test_input = \"Car drives passenger\"\n",
    "    nlp_result = core_nlp(test_input)\n",
    "    rule_result = rule_based_extraction(nlp_result)\n",
    "    test_result = rule_result[\"association\"] == [('car', 'passenger')] or rule_result[\"association\"] == [('passenger', 'car')]\n",
    "    print(f\"AS-Rule 3 Test passed : {test_result}\")\n",
    "    \n",
    "    # AG-Rule 1: Extract phrases such as “have”, “hold”, “possess”, “carry”, “involve”, “imply”, “embrace”, “contains”, “consists of”, “comprises of”, “is-part-of”, “included-in”, “belong-to”, “divided to”, “has part” or “is- made-up-of” between subject and object.\n",
    "    test_input = \"Sam carry basket\"\n",
    "    nlp_result = core_nlp(test_input)\n",
    "    rule_result = rule_based_extraction(nlp_result)\n",
    "    test_result = rule_result[\"aggregation\"] == [('basket', 'Sam')]\n",
    "    print(f\"AG-Rule 1 Test passed : {test_result}\")"
   ]
  },
  {
   "cell_type": "code",
   "execution_count": 42,
   "id": "7bd503b8",
   "metadata": {},
   "outputs": [
    {
     "data": {
      "text/plain": [
       "[['Sam', 'Sam', 'PROPN', 'nsubj', 2],\n",
       " ['carry', 'carry', 'VERB', 'root', 0],\n",
       " ['basket', 'basket', 'NOUN', 'obj', 2]]"
      ]
     },
     "execution_count": 42,
     "metadata": {},
     "output_type": "execute_result"
    }
   ],
   "source": [
    "test_input = \"Sam carry basket\"\n",
    "nlp_result = core_nlp(test_input)\n",
    "nlp_result"
   ]
  },
  {
   "cell_type": "code",
   "execution_count": 70,
   "id": "08ff549c",
   "metadata": {},
   "outputs": [],
   "source": [
    "# function you are working on ...\n",
    "\n",
    "def rule_based_extraction(_nlp_results):\n",
    "    classes = []\n",
    "    methods = [] # class, method\n",
    "    generalization = [] # class 1, class 2\n",
    "    association = []\n",
    "    aggregation = []\n",
    "    \n",
    "    pos_tags = [item[2] for item in _nlp_results]\n",
    "    lemma_words = [item[1] for item in _nlp_results]\n",
    "    linguistic_typology = [item[3] for item in _nlp_results]\n",
    "    \n",
    "    ### RULE 14 and 15 are for discarding sentences ###\n",
    "    \n",
    "    # RULE 14: If If a sentence has no verbs (VP), then discard it.\n",
    "    try:\n",
    "        if not any(x[2] == \"VERB\" for x in _nlp_results): return {\"classes\": classes, \"methods\":methods}\n",
    "    except:\n",
    "        pass\n",
    "    RULE 15: If a prepositional phrase (PP), adjective phrase (ADJP), determiner (DT), or adjective (JJ) precedes the subject of the sentence, then discard that phrases.\n",
    "    try:\n",
    "        if linguistic_typology[pos_tags.index(\"DET\") + 1] == \"nsubj\" : return {\"classes\": classes, \"methods\":methods}\n",
    "    except:\n",
    "        pass\n",
    "    try:\n",
    "        if linguistic_typology[pos_tags.index(\"ADJ\") + 1] == \"nsubj\" : return {\"classes\": classes, \"methods\":methods}\n",
    "    except:\n",
    "        pass\n",
    "    \n",
    "\n",
    "        \n",
    "    \n",
    "    \n",
    "    # C-Rule 1: Extract the common nouns (e.g., Person, User) <NN> tags, and proper nouns (e.g., System, Human) <NNP> tags from the text and map them to classes.\n",
    "    try:\n",
    "        [classes.append(x[1]) for x in _nlp_results if x[2] == \"NOUN\" and x[1] not in classes]\n",
    "    except:\n",
    "        pass\n",
    "    try:\n",
    "        [classes.append(x[1]) for x in _nlp_results if x[2] == \"PROPN\" and x[1] not in classes]\n",
    "    except:\n",
    "        pass\n",
    "    \n",
    "    # C-Rule 2: If a sentence in (Subject–Verb–Object); Subject <nsubj> and Object <dobj> forms are mapped to candidate classes.\n",
    "    try:\n",
    "        [classes.append(x[1]) for x in _nlp_results if (x[3] == \"obj\" or x[3] == \"nsubj\") and x[1] not in classes]\n",
    "    except:\n",
    "        pass\n",
    "    # C-Rule 3: If the noun is post-fixed by preposition <IN> tag, then ignore it as a class and map it as a part of a method, e.g., System records details of a candidate. “System” and “candidate” are candidate classes, and “records details” is a method of the class “system”.\n",
    "    try:\n",
    "        if pos_tags.index(\"NOUN\") < pos_tags.index(\"ADP\"):\n",
    "            for word in lemma_words[pos_tags.index(\"NOUN\")+1:pos_tags.index(\"ADP\")]:\n",
    "                if word in classes:\n",
    "                    classes.remove(word)\n",
    "                    methods.append((lemma_words[pos_tags.index(\"NOUN\")], \" \".join(lemma_words[pos_tags.index(\"NOUN\")+1:pos_tags.index(\"ADP\")])))\n",
    "    except:\n",
    "        pass\n",
    "    \n",
    "    # C-Rule 4: Identify candidate classes from the ‘IsA’ relationship (inheritance), e.g., EU-Rent is a car rental company. EU-Rent is a subclass of Car Rental Company.\n",
    "    # not implemented because conflict with rule 14.\n",
    "    \n",
    "    # AS-Rule 1: Extract the prepositional phrases from (<VB>+ <IN> or <To>) tags among noun phrases (two classes), such as “has”, “next to”, “part of”, “works for”, “contained in”, “talk to”, “order to”, and identify the noun phrases associated with it. These phrases are mapped to association relationships and the associated verb is used as the caption of association.\n",
    "    try:\n",
    "        if pos_tags[pos_tags.index(\"VERB\") + 1] == \"ADP\" or lemma_words[pos_tags.index(\"VERB\") + 1] == \"to\":\n",
    "            if \"PROPN\" in pos_tags[:pos_tags.index(\"VERB\")]: noun_1 = lemma_words[pos_tags[:pos_tags.index(\"VERB\")].index(\"PROPN\")]\n",
    "            if \"NOUN\" in pos_tags[:pos_tags.index(\"VERB\")]: noun_1 = lemma_words[pos_tags[:pos_tags.index(\"VERB\")].index(\"NOUN\")]\n",
    "            if \"NOUN\" in pos_tags[pos_tags.index(\"VERB\"):]: noun_2 = lemma_words[pos_tags[pos_tags.index(\"VERB\"):].index(\"NOUN\") +1]\n",
    "            association.append((noun_1, noun_2))\n",
    "    except:\n",
    "        pass\n",
    "        \n",
    "    # AS-Rule 3: If a sentence is in the form (Noun+Verb+ Noun) where both nouns are candidate classes, then the verb is an association relationship. Similarly, if the sentence is in the form of (Subject-Predicate-Object), then there is an association between subject and object.\n",
    "    try:\n",
    "        if pos_tags[pos_tags.index(\"VERB\") + 1] == \"NOUN\" and pos_tags[pos_tags.index(\"VERB\") - 1] == \"NOUN\":\n",
    "            if (lemma_words[pos_tags.index(\"VERB\") + 1], lemma_words[pos_tags.index(\"VERB\") - 1]) not in association:\n",
    "                association.append((lemma_words[pos_tags.index(\"VERB\") + 1], lemma_words[pos_tags.index(\"VERB\") - 1]))\n",
    "    except:\n",
    "        pass\n",
    "    \n",
    "    try:\n",
    "        if linguistic_typology[pos_tags.index(\"VERB\") + 1] == \"obj\" and linguistic_typology[pos_tags.index(\"VERB\") - 1] == \"nsubj\":\n",
    "            if (lemma_words[pos_tags.index(\"VERB\") + 1], lemma_words[pos_tags.index(\"VERB\") - 1]) not in association:\n",
    "                association.append((lemma_words[pos_tags.index(\"VERB\") + 1], lemma_words[pos_tags.index(\"VERB\") - 1]))\n",
    "    except:\n",
    "        pass\n",
    "    \n",
    "    # AG-Rule 1: Extract phrases such as “have”, “hold”, “possess”, “carry”, “involve”, “imply”, “embrace”, “contains”, “consists of”, “comprises of”, “is-part-of”, “included-in”, “belong-to”, “divided to”, “has part” or “is- made-up-of” between subject and object.\n",
    "    my_list =  [\"hold\", \"possess\", \"carry\", \"involve\", \"imply\", \"embrace\", \"contains\", \"consists of\", \"comprises of\", \"is part of\", \"included in\", \"belong to\", \"divided to\", \"has part\", \"is made up of\"]\n",
    "    try:\n",
    "        for expression in my_list:\n",
    "            if expression in (\" \").join(lemma_words):\n",
    "                association.remove((lemma_words[pos_tags.index(\"VERB\") + 1], lemma_words[pos_tags.index(\"VERB\") - 1]))\n",
    "                aggregation.append((lemma_words[pos_tags.index(\"VERB\") + 1], lemma_words[pos_tags.index(\"VERB\") - 1]))\n",
    "    except:\n",
    "        pass\n",
    "    \n",
    "\n",
    "    return {\"classes\": classes, \"methods\":methods, \"generalization\":generalization, \"association\":association, \"aggregation\": aggregation}\n",
    "    \n",
    "\n",
    "    "
   ]
  },
  {
   "cell_type": "code",
   "execution_count": 71,
   "id": "3bd66e99",
   "metadata": {},
   "outputs": [
    {
     "name": "stdout",
     "output_type": "stream",
     "text": [
      "Rule 14 Test passed : False\n",
      "Rule 15 Test passed : False\n",
      "C-Rule 1 Test passed : True\n",
      "C-Rule 2 Test passed : True\n",
      "C-Rule 3 Test passed : True\n",
      "AS-Rule 1 Test passed : True\n",
      "AS-Rule 3 Test passed : True\n",
      "AG-Rule 1 Test passed : True\n"
     ]
    }
   ],
   "source": [
    "test_rules()"
   ]
  },
  {
   "cell_type": "code",
   "execution_count": 45,
   "id": "e742aacd",
   "metadata": {},
   "outputs": [
    {
     "data": {
      "text/plain": [
       "'Service company \"Rent a Consult\" is planning to rethink its HR System. Rent a Consult is a service company. Consultant was documented in Word Documents. Documents contained the Name of the consultant. Documents contained the locations of the consultant. Documents contained the qualifications of the consultant. Customer search consultants through website. Customer access consultants through website. Customer order consultants through website. User filters consultants. User creates account.'"
      ]
     },
     "execution_count": 45,
     "metadata": {},
     "output_type": "execute_result"
    }
   ],
   "source": [
    "examples[0][-1] # example sentence after filter 1"
   ]
  },
  {
   "cell_type": "code",
   "execution_count": 46,
   "id": "9a8654fb",
   "metadata": {},
   "outputs": [],
   "source": [
    "rules_result = []\n",
    "sentences = examples[0][-1].split(\".\")\n",
    "for sentence in sentences:\n",
    "    nlp_result = core_nlp(sentence)\n",
    "    rules_result.append(rule_based_extraction(nlp_result))"
   ]
  },
  {
   "cell_type": "code",
   "execution_count": 47,
   "id": "d972b287",
   "metadata": {},
   "outputs": [
    {
     "data": {
      "text/plain": [
       "[('service', 'Consult')]"
      ]
     },
     "execution_count": 47,
     "metadata": {},
     "output_type": "execute_result"
    }
   ],
   "source": [
    "rules_result[0][\"association\"]"
   ]
  },
  {
   "cell_type": "code",
   "execution_count": 48,
   "id": "34b7f1b3",
   "metadata": {},
   "outputs": [
    {
     "data": {
      "text/plain": [
       "[]"
      ]
     },
     "execution_count": 48,
     "metadata": {},
     "output_type": "execute_result"
    }
   ],
   "source": [
    "rules_result[0][\"generalization\"]"
   ]
  },
  {
   "attachments": {},
   "cell_type": "markdown",
   "id": "16b00d08",
   "metadata": {},
   "source": [
    "### Post processing"
   ]
  },
  {
   "cell_type": "code",
   "execution_count": 49,
   "id": "3124c0e8",
   "metadata": {},
   "outputs": [],
   "source": [
    "# rules_result"
   ]
  },
  {
   "cell_type": "code",
   "execution_count": 75,
   "id": "ca544347",
   "metadata": {},
   "outputs": [],
   "source": [
    "def post_processing(result, refinement=True):\n",
    "    \n",
    "    all_classes = []\n",
    "    all_methods = [] # class, method\n",
    "    all_generalization = [] # class 1, class 2\n",
    "    all_association = []\n",
    "    all_aggregation = []\n",
    "\n",
    "    for item in result:\n",
    "        try:\n",
    "            for i in item[\"classes\"]:\n",
    "                all_classes.append(i)\n",
    "            for i in item[\"methods\"]:\n",
    "                all_methods.append(i)\n",
    "            for i in item[\"generalization\"]:\n",
    "                all_generalization.append(i)\n",
    "            for i in item[\"association\"]:\n",
    "                all_association.append(i)\n",
    "            for i in item[\"aggregation\"]:\n",
    "                all_aggregation.append(i)\n",
    "        except:\n",
    "            pass\n",
    "    \n",
    "    if refinement == True:\n",
    "        \n",
    "        # • C-Rule 3: If a candidate class does not participate in any relationship; ignore it as a class.\n",
    "        association_classes = [i for sub in all_association for i in sub]\n",
    "        generalization_classes = [i for sub in all_generalization for i in sub]\n",
    "        aggregation_classes = [i for sub in all_aggregation for i in sub]\n",
    "        \n",
    "        all_classes = association_classes + generalization_classes + aggregation_classes\n",
    "    \n",
    "    return {\"classes\": all_classes, \"methods\": all_methods, \"generalizations\": all_generalization, \"associations\": all_association, \"aggregations\":all_aggregation}\n",
    "        \n",
    "    "
   ]
  },
  {
   "cell_type": "code",
   "execution_count": 76,
   "id": "f8eee70d",
   "metadata": {},
   "outputs": [],
   "source": [
    "rules_result = post_processing(rules_result)"
   ]
  },
  {
   "attachments": {},
   "cell_type": "markdown",
   "id": "44c1d563",
   "metadata": {},
   "source": [
    "### Evaluation of results\n",
    "This Function takes in the name, ground truth labels and the predicted labels and returns\n",
    "\n",
    "0) Name of the example\n",
    "1) ground truth labels\n",
    "2) predicted labels\n",
    "3) TP, TN, FP, FN\n",
    "4) Accuracy"
   ]
  },
  {
   "cell_type": "code",
   "execution_count": 52,
   "id": "6bd46799",
   "metadata": {},
   "outputs": [
    {
     "data": {
      "text/plain": [
       "'RentAConsult'"
      ]
     },
     "execution_count": 52,
     "metadata": {},
     "output_type": "execute_result"
    }
   ],
   "source": [
    "examples[0][0] # name\n",
    "# examples[0][2] # gt labels\n",
    "# rules_result\n",
    "# nouns # all_nouns (from all examples)"
   ]
  },
  {
   "cell_type": "code",
   "execution_count": 53,
   "id": "3b65b651",
   "metadata": {},
   "outputs": [],
   "source": [
    "def eval_results(name, gt_labels, rule_results, all_nouns):\n",
    "    tp, tn, fp, fn = [], [], [], []\n",
    "    for label in rule_results:\n",
    "        if label in gt_labels:\n",
    "            # wenn das predicted label in der ground truth enthalten ist, dann tp\n",
    "            tp.append(label)\n",
    "        if label not in gt_labels:\n",
    "            # wenn das predicted label nicht in der gt enthalten ist: fp\n",
    "            fp.append(label)\n",
    "\n",
    "    for label in gt_labels:\n",
    "        # wenn ein gt label nicht in der prediction drinnen war -> fn\n",
    "        if label not in rule_results:\n",
    "            fn.append(label)\n",
    "    \n",
    "    for noun in all_nouns:\n",
    "        if noun not in rule_results and noun not in gt_labels:\n",
    "            tn.append(noun)\n",
    "\n",
    "    accuracy = (len(tp) + len(tn)) / (len(tp) + len(tn) + len(fp) + len(fn))\n",
    "    \n",
    "    try:\n",
    "        precision = len(tp) / (len(tp) + len(fp))\n",
    "    except:\n",
    "        precision = 0\n",
    "\n",
    "    return [name, gt_labels, rule_results, tp, tn, fp, fn, accuracy, precision, all_nouns]"
   ]
  },
  {
   "cell_type": "code",
   "execution_count": 54,
   "id": "45c0c4c6",
   "metadata": {},
   "outputs": [],
   "source": [
    "# test with \"Rent A Consult\"\n",
    "# test with gt\n",
    "results = eval_results(examples[0][0], examples[0][2], rules_result[\"classes\"], nouns)\n"
   ]
  },
  {
   "cell_type": "code",
   "execution_count": 55,
   "id": "debecc06",
   "metadata": {},
   "outputs": [
    {
     "name": "stdout",
     "output_type": "stream",
     "text": [
      "['user', 'account', 'consultant', 'order', 'qualification', 'website']\n"
     ]
    }
   ],
   "source": [
    "# Ground Truth\n",
    "print(results[1])"
   ]
  },
  {
   "cell_type": "code",
   "execution_count": 26,
   "id": "97a9ad32",
   "metadata": {},
   "outputs": [
    {
     "name": "stdout",
     "output_type": "stream",
     "text": [
      "['service', 'Consult', 'account', 'user']\n"
     ]
    }
   ],
   "source": [
    "# Rule based results\n",
    "print(results[2])"
   ]
  },
  {
   "cell_type": "code",
   "execution_count": 27,
   "id": "2b1076ad",
   "metadata": {},
   "outputs": [
    {
     "name": "stdout",
     "output_type": "stream",
     "text": [
      "['account', 'user']\n"
     ]
    }
   ],
   "source": [
    "# True Positives\n",
    "print(results[3])"
   ]
  },
  {
   "cell_type": "code",
   "execution_count": 28,
   "id": "291b103d",
   "metadata": {},
   "outputs": [
    {
     "name": "stdout",
     "output_type": "stream",
     "text": [
      "0.6666666666666666\n"
     ]
    }
   ],
   "source": [
    "# Accuracy\n",
    "\n",
    "print(results[-3])"
   ]
  },
  {
   "cell_type": "code",
   "execution_count": 29,
   "id": "03fe8ed2",
   "metadata": {},
   "outputs": [
    {
     "name": "stdout",
     "output_type": "stream",
     "text": [
      "0.5\n"
     ]
    }
   ],
   "source": [
    "# Precision\n",
    "\n",
    "print(results[-2])"
   ]
  },
  {
   "attachments": {},
   "cell_type": "markdown",
   "id": "eba3606b",
   "metadata": {},
   "source": [
    "### Visualization of Results\n",
    "This Function takes in \n",
    "\n",
    "0) Name of the example\n",
    "1) ground truth labels\n",
    "2) predicted labels\n",
    "3) TP, TN, FP, FN\n",
    "4) Accuracy\n",
    "\n",
    "and outputs the conf matrix"
   ]
  },
  {
   "cell_type": "code",
   "execution_count": 30,
   "id": "5ccb363f",
   "metadata": {},
   "outputs": [],
   "source": [
    "import seaborn as sn\n",
    "import pandas as pd\n",
    "import matplotlib.pyplot as plt\n",
    "\n"
   ]
  },
  {
   "cell_type": "code",
   "execution_count": 31,
   "id": "2cf873ea",
   "metadata": {},
   "outputs": [],
   "source": [
    "def visualize_conf(tp, fp, fn, tn):\n",
    "    array = [[tp, fp],[fn,tn]] # tp, fp, fn, tn\n",
    "    df_cm = pd.DataFrame(array, index=[\"True\", \"False\"], columns=[\"True\", \"False\"])\n",
    "    plt.figure(figsize = (10,7))\n",
    "    sn.heatmap(df_cm, annot=True, cmap=\"crest\", linewidth=.5)"
   ]
  },
  {
   "cell_type": "code",
   "execution_count": 32,
   "id": "6d9ebb8e",
   "metadata": {},
   "outputs": [
    {
     "data": {
      "image/png": "[encoded data removed]",
      "text/plain": [
       "<Figure size 720x504 with 2 Axes>"
      ]
     },
     "metadata": {
      "needs_background": "light"
     },
     "output_type": "display_data"
    }
   ],
   "source": [
    "visualize_conf(10,10,10,10)"
   ]
  },
  {
   "attachments": {},
   "cell_type": "markdown",
   "id": "f5aed718",
   "metadata": {},
   "source": [
    "## Visualize class Diagramm"
   ]
  },
  {
   "cell_type": "code",
   "execution_count": 63,
   "id": "41a88923",
   "metadata": {},
   "outputs": [],
   "source": [
    "from plantuml import PlantUML\n",
    "import matplotlib.image as mpimg\n",
    "\n",
    "server = PlantUML(url='http://www.plantuml.com/plantuml/img/',\n",
    "                          basic_auth={},\n",
    "                          form_auth={}, http_opts={}, request_opts={})"
   ]
  },
  {
   "cell_type": "code",
   "execution_count": 64,
   "id": "1659cf8f",
   "metadata": {},
   "outputs": [],
   "source": [
    "current_dir = \"/Users/vs21/Library/Mobile Documents/com~apple~CloudDocs/Work/RESEARCH/requirements_extraction/EVAL/PlantUML/\""
   ]
  },
  {
   "cell_type": "code",
   "execution_count": 65,
   "id": "6622fcbd",
   "metadata": {},
   "outputs": [],
   "source": [
    "def domain_model_gen(name, associations, aggregations, generalizations):\n",
    "\n",
    "  # Output : Domänenmodell\n",
    "    \n",
    "    with open(current_dir + name + '.txt', 'w') as f:\n",
    "        f.write('@startuml' + '\\n')\n",
    "        for association in associations:\n",
    "            f.write(association[0] + ' -- ' + association[1] + '\\n')\n",
    "        for aggregation in aggregations:\n",
    "            f.write(aggregation[0] + ' o-- ' + aggregation[1] + '\\n')\n",
    "        for extension in generalizations:\n",
    "            f.write(extension[0] + ' <|-- ' + extension[1] + '\\n')\n",
    "        f.write('@enduml' + '\\n')\n",
    "    server.processes_file(current_dir + name + '.txt')\n",
    "    \n",
    "#     img = mpimg.imread(current_dir + name +'.png')\n",
    "#     plt.figure(figsize = (5,10))\n",
    "#     imgplot = plt.imshow(img, aspect='auto')"
   ]
  },
  {
   "cell_type": "code",
   "execution_count": 66,
   "id": "b90c5162",
   "metadata": {},
   "outputs": [],
   "source": [
    "associations = [('Bestellung', 'Suchanfrage'), ('Qualifikation', 'Suchanfrage')]\n",
    "aggregations = [['Consultant', 'Qualifikation'], ['Bestellung', 'Consultant']]\n",
    "compositions = [['Kundenkonto', 'Bestellung']]\n",
    "extensions = [[\"Bestellung\", \"Suchanfrage\"]]"
   ]
  },
  {
   "cell_type": "code",
   "execution_count": 37,
   "id": "cfd85d24",
   "metadata": {},
   "outputs": [],
   "source": [
    "# domain_model_gen(\"test_plant_Uml\", associations, aggregations, extensions)"
   ]
  },
  {
   "attachments": {},
   "cell_type": "markdown",
   "id": "696b4610",
   "metadata": {},
   "source": [
    "# putting it all together"
   ]
  },
  {
   "cell_type": "code",
   "execution_count": 81,
   "id": "215c7691",
   "metadata": {},
   "outputs": [],
   "source": [
    "examples_dir = \"/Users/vs21/Library/Mobile Documents/com~apple~CloudDocs/Work/RESEARCH/requirements_extraction/DATA/eng/\"\n",
    "\n",
    "def eval_classes():\n",
    "    result_list = []\n",
    "    examples = get_examples(examples_dir, test=False, test_folder=\"RentAConsult\")\n",
    "    for idx, example in enumerate(examples):\n",
    "        print(f'Progress : {idx +1} / {len(examples)}')\n",
    "        name, example_text, gt_labels, after_filter = example\n",
    "\n",
    "        # get all nouns\n",
    "        nlp_result_nouns = core_nlp(example_text)\n",
    "        all_nouns = get_all_nouns(nlp_result_nouns)\n",
    "\n",
    "        # apply rule based approach\n",
    "        sentences = example[-1].split(\".\")\n",
    "        rules_result = []\n",
    "        for sentence in sentences:\n",
    "            nlp_result = core_nlp(sentence)\n",
    "            rules_result.append(rule_based_extraction(nlp_result))\n",
    "        \n",
    "        # return {\"classes\": all_classes, \"methods\": all_methods, \"generalizations\": all_generalization, \"associations\": all_association, \"aggregations\":all_aggregation}\n",
    "        rules_result = post_processing(rules_result)\n",
    "        \n",
    "        # plantUML\n",
    "        domain_model_gen(name, rules_result[\"associations\"], rules_result[\"aggregations\"], rules_result[\"generalizations\"])\n",
    "        \n",
    "\n",
    "        # evaluate results\n",
    "        # return [name, gt_labels, rule_results, tp, tn, fp, fn, accuracy, precision, all_nouns]\n",
    "        result_list.append(eval_results(name, gt_labels, rules_result[\"classes\"], all_nouns))\n",
    "\n",
    "    \n",
    "    return result_list\n",
    "    \n",
    "\n"
   ]
  },
  {
   "cell_type": "code",
   "execution_count": 82,
   "id": "6a42a3cf",
   "metadata": {},
   "outputs": [
    {
     "name": "stdout",
     "output_type": "stream",
     "text": [
      "Progress : 1 / 12\n",
      "Progress : 2 / 12\n",
      "Progress : 3 / 12\n",
      "Progress : 4 / 12\n",
      "Progress : 5 / 12\n",
      "Progress : 6 / 12\n",
      "Progress : 7 / 12\n",
      "Progress : 8 / 12\n",
      "Progress : 9 / 12\n",
      "Progress : 10 / 12\n",
      "Progress : 11 / 12\n",
      "Progress : 12 / 12\n"
     ]
    }
   ],
   "source": [
    "results = eval_classes()"
   ]
  },
  {
   "attachments": {},
   "cell_type": "markdown",
   "id": "3ff260ad",
   "metadata": {},
   "source": [
    "### process results :\n",
    "goes through the results and sums up tp, tn, fp, fn\n",
    "and visualizes them"
   ]
  },
  {
   "cell_type": "code",
   "execution_count": 80,
   "id": "ad166580",
   "metadata": {},
   "outputs": [
    {
     "name": "stdout",
     "output_type": "stream",
     "text": [
      "588\n"
     ]
    },
    {
     "data": {
      "image/png": "[encoded data removed]",
      "text/plain": [
       "<Figure size 720x504 with 2 Axes>"
      ]
     },
     "metadata": {
      "needs_background": "light"
     },
     "output_type": "display_data"
    }
   ],
   "source": [
    "TP = TN = FN = FP = 0\n",
    "for result in results:\n",
    "    TP += len(result[3])\n",
    "    TN += len(result[4])\n",
    "    FP += len(result[5])\n",
    "    FN += len(result[6])\n",
    "\n",
    "total = TP + TN + FN + FP\n",
    "print(total)\n",
    "visualize_conf(TP/total, FP/total, FN/total, TN/total)"
   ]
  },
  {
   "cell_type": "code",
   "execution_count": null,
   "id": "155dce60",
   "metadata": {},
   "outputs": [],
   "source": []
  }
 ],
 "metadata": {
  "kernelspec": {
   "display_name": "rule_based_extraction",
   "language": "python",
   "name": "python3"
  },
  "language_info": {
   "codemirror_mode": {
    "name": "ipython",
    "version": 3
   },
   "file_extension": ".py",
   "mimetype": "text/x-python",
   "name": "python",
   "nbconvert_exporter": "python",
   "pygments_lexer": "ipython3",
   "version": "3.8.13"
  },
  "vscode": {
   "interpreter": {
    "hash": "d7555fb2e6e5b0d2633949f9a8608e3258f39ad429911b18e940b6465887c988"
   }
  }
 },
 "nbformat": 4,
 "nbformat_minor": 5
}
