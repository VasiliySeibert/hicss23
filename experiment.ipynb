{
 "cells": [
  {
   "attachments": {},
   "cell_type": "markdown",
   "id": "db88c670",
   "metadata": {},
   "source": [
    "# virtueller Requirements Engineer Experiment\n",
    "https://parts-of-speech.info"
   ]
  },
  {
   "cell_type": "code",
   "execution_count": 374,
   "id": "2e24a423",
   "metadata": {},
   "outputs": [],
   "source": [
    "import os"
   ]
  },
  {
   "cell_type": "code",
   "execution_count": 375,
   "id": "4fe80f33",
   "metadata": {},
   "outputs": [
    {
     "data": {
      "text/plain": [
       "['/Users/vs21/hicss23/Data/akita_3.txt',\n",
       " '/Users/vs21/hicss23/Data/akita_2.txt',\n",
       " '/Users/vs21/hicss23/Data/akita_1.txt',\n",
       " '/Users/vs21/hicss23/Data/akita_4.txt']"
      ]
     },
     "execution_count": 375,
     "metadata": {},
     "output_type": "execute_result"
    }
   ],
   "source": [
    "data_dir = \"/Users/vs21/hicss23/Data/\"\n",
    "data_files = []\n",
    "\n",
    "for file_name in os.listdir(data_dir):\n",
    "    if \".txt\" in file_name:\n",
    "        data_files.append(data_dir + file_name)\n",
    "\n",
    "data_files\n"
   ]
  },
  {
   "cell_type": "code",
   "execution_count": 376,
   "id": "21df6eb5",
   "metadata": {},
   "outputs": [],
   "source": [
    "data_content = []\n",
    "for data_file in data_files:\n",
    "    with open (data_file, 'r') as file:\n",
    "        data_content.append(file.read().replace('\\n', '').replace('.', ' ').replace(',', ' '))"
   ]
  },
  {
   "cell_type": "code",
   "execution_count": 377,
   "id": "8f52ca5b",
   "metadata": {},
   "outputs": [
    {
     "data": {
      "text/plain": [
       "'The Akita (秋田  Akita  Japanese pronunciation: [akʲita]) is a Japanese dog breed of large size  Originating from the mountains of northern Japan  the Akita has a short double coat similar to that of many other northern spitz breeds  Historically  they were used by samurai for guarding  fighting and the hunting of bears The Akita is a powerful  independent  and dominant breed  commonly aloof with strangers  but affectionate and deeply loyal with its family  As a breed  Akitas are generally hardy  The two separate varieties of Akita are a pure Japanese strain  called Akita Inu or Akita-ken  and a larger mixed strain  commonly referred to as the \"American Akita\" [2] However  it is subject to debate as to whether the Akita strains are distinct  or if they constitute one  single breed [3][4][5]Debate exists among fanciers whether these are two separate breeds of Akitas  As of 2020  the American Kennel Club [6] now considers American and Japanese Akitas to be two separate breeds  no longer allowing free breeding between the two  The United Kennel Club [7] the Federation Cynologique Internationale [8] The Kennel Club [9][10] the Australian National Kennel Council [11] the New Zealand Kennel Club [12][13] and the Japan Kennel Club[14] consider Japanese and American Akitas as separate breeds [15] Some countries refer to the American Akita as simply the Akita and not the American Akita  The issue is especially controversial in Japan [16] For the FCI\\'s 84 countries  the breed split formally occurred June 1999  when the FCI decided that the American type would be called the Great Japanese Dog [15] later renamed the American Akita in January 2006 [15]Japanese historyFaithful Dog Hachiko Photo pngLoyal Hachikō became legendary after waiting every day for his master to return at Shibuya Station in central Tokyo The Akita Inu originated in the snowy and rural lands of Odate  Akita Prefecture  a wild and mountainous region of Japan  They were trained to hunt animals such as elk  wild boar  and Ussuri brown bears [17] This breed in the 1600s was involved in dog fighting  which at the time was popular in Japan  From the 1500s into the 1800s  the Akita served as companions for samurai [18]In 1931  the Akita was officially declared a Japanese natural monument  The mayor of Odate City in Akita Prefecture organized the Akita Inu Hozonkai to preserve the original Akita as a Japanese natural treasure through careful breeding [19]In 1933  Heishiro Takaku (Takahisa)  one of the early members of Nippo in Tokyo and later of the Nipponinu Kyokai (Nikkyo) in Osaka and Katsuichi (Shoichi) each published articles on a proposed Japanese dog standard  which Included the Akita dog  Akita dogs revealed the most non-uniformity at that time  when compared to medium and small Japanese dogs  due to being outcrossed to the Tosa fighting dog  and other Imported foreign dogs [20] Then in 1934  the first Japanese breed standard for the Akita Inu was listed  following the breed\\'s declaration as a natural monument of Japan [21]The Akita breed was used during the Russo-Japanese War to track prisoners of war and lost sailors [22] During World War II  the Akita was considered a non-military breed and was crossed with German Shepherds in an attempt to save them from the wartime government order for all non-military dogs to be culled [23] Some were used as scouts and guards during the war [22]A native Japanese breed known as Matagi (hunting dog) was used along with the Hokkaido Inu breed to mix back into the remaining Akita dogs to restore the breed  There were many lines of Akita  but the most influential were the Dewa and Ichinoseki  [24]Both lines contributed to the foundation stock for both Akita types  and many exported dogs were a combination of these lines  According to one Japanese judge  the greatest difference between Japanese- and American-bred Akitas is that the latter still show much evidence of the Dewa strain  [25] In the early 1900\\'s  Dewa-line akitas were heavily favored and did well in show  Kongo-go (from the Heirakudo Kennel of Eikichi Hiraizumi) is considered to be the most influential dog of that line  For a time  it was said: “Kongokei ni arazunba Akitainu ni arazu\" (If not from the Kongo line  ‘tis not an Akita dog )[26]However  the Dewa-line later went into a decline because Japanese breeders felt that the akita did not give the impression of a Japanese dog  so began to breed towards an ideal type reminiscent of other Nihon-ken  The Dewa line was stereotyped as the “German Shepherd” type  while the Ichinoseki line was referred to as the “Mastiff” type [24][26] Thus  the Ichinoseki-line rose in popularity  Goromaru-Go was regarded as the most influential akita of that line who  although didn\\'t perform well in show  produced outstanding akita dogs when bred to Taihei and Nikkei lines from Southern Akita  Goromaru-Go then became foundation to further the Japanese type During the occupation years following the war  the breed began to thrive again through the efforts of Sawataishi and others [18] Morie Sawataishi and his efforts to breed the Akita is a major reason this breed exists today [27] For the first time  Akitas were bred for a standardized appearance [28] Akita fanciers in Japan began gathering and exhibiting the remaining Akitas and producing litters to restore the breed to sustainable numbers and to accentuate the ideal characteristics of the breed muddied by crosses to other breeds [29] It wasn\\'t until the 1960-70\\'s where the foxier Japanese type started to diverge from the typical American type [30]The story of Hachikō  the most revered Akita of all time  helped push the Akita into the international dog world  Hachikō was born in 1923 and owned by Professor Hidesaburō Ueno of Tokyo [31] Professor Ueno lived near the Shibuya Train Station in a suburb of the city  and commuted to work every day on the train [19] Hachikō accompanied his master to and from the station each day [19] On May 25  1925  when the dog was 18 months old  he waited for his master\\'s arrival on the four o\\'clock train  but Professor Ueno had suffered a fatal brain haemorrhage at work [19] Hachikō continued to wait for his master\\'s return [19] He travelled to and from the station each day for the next nine years [19] He allowed the professor\\'s relatives to care for him  but he never gave up the vigil at the station for his master [19] His vigil became world-renowned when  in 1934 [32] shortly before his death  a bronze statue was erected at the Shibuya train station in his honor [19] This statue was melted down for munitions during the war  but a new one was commissioned after the war [32] Each year on April 8 since 1936  Hachikō\\'s devotion has been honoured with a solemn ceremony of remembrance at Tokyo\\'s Shibuya railroad station [33][34] Eventually  Hachikō\\'s legendary faithfulness became a national symbol of loyalty  particularly to the person and institution of the Emperor [35]In 1967  commemorating the 50th anniversary of the founding of the Akita Dog Preservation Society  the Akita Dog Museum was built to house information  documents and photos [19] There is a tradition in Japan  that when a child is born they receive a statue of an Akita  This statue symbolizes health  happiness  and a long life [36]In 1937  Helen Keller travelled to Japan  She expressed a keen interest in the breed and was presented with the first two Akitas to enter the US [37] The first dog  presented to her by Mr  Ogasawara and named Kamikaze-go  died at 7+1⁄2 months of age from distemper  one month after her return to the States  A second Akita was arranged to be sent to Miss Keller: Kamikaze\\'s litter brother  Kenzan-go [38] Keller nicknamed the dog Go-Go and they were great companions from day one  Go-Go even spent his first night at Keller’s home sleeping at the foot of her bed [39] Kenzan-go died in the mid-1940s [40] By 1939  a breed standard had been established and dog shows had been held  but such activities stopped after World War II began [citation needed] Keller wrote in the Akita Journal:If ever there was an angel in fur  it was Kamikaze  I know I shall never feel quite the same tenderness for any other pet  The Akita dog has all the qualities that appeal to me he is gentle  companionable and trusty [41][42]The Japanese Akita and American Akita began to diverge in type during the post-World War II era due to America and Europe preserving the akitas that fell out of favour with the Japanese  particularly the Dewa-types and dogs with the signature black mask or pinto marking  American Akitas are typically considered mixed by Japanese breeders (and not true Akitas by the Japanese standard)[43] however  their phenotype predates the Japanese akita by a few decades  thus being closer to pre-war akitas like Hachiko [30]Helen Keller is credited with bringing the Akita to America after being given two Akitas by the Japanese government in 1938  By 1939  a breed standard was established  and dog shows began to be held  but this development was interrupted by World War II [44] During this time  US servicemen serving as part of the occupation force in Japan first came into contact with the Akita  the breed so impressed them that many service members chose to bring an Akita back home with them upon completion of their tour Although both types derive from common ancestry  marked differences are seen between the two [45] American Akitas generally are heavier boned and larger  with a more bear-like head  whereas Japanese Akitas tend to be lighter and more finely featured with a fox-like head [15] Additionally  while American Akitas are acceptable in all colors  Japanese Akitas are only permitted to be red  white  or brindle  Additionally  American Akitas may be pinto and/or have black masks  unlike Japanese Akitas  where these are considered disqualifications and are not permitted in the breed standards [citation needed]Recognized by the American Kennel Club in 1955  the Akita was placed in the Miscellaneous class  The AKC did not approve the Akita standard until 1972  and it was moved to the Working Dog class  As such  the Akita is a rather new breed in the United States  Foundation stock in America continued to be imported from Japan until 1974  when the AKC cut off registration to any further Japanese imports until 1992  when it recognized the Japan Kennel Club standards  This decision set the stage for the divergence in type between the American Akita and Japanese Akita Inu that is present today [46]Elsewhere in the world  one American Akita was first introduced to the UK in 1937  He was a Canadian import  owned by a Mrs  Jenson; the descendants of Mrs  Jenson live on today breeding American Akitas  The most widely known of these is Mr  Joseph Felton  an award-winning Akita breeder  but the breed was not itself widely known until the early 1980s [40] The breed was introduced in Australia in 1982 with an American import and to New Zealand in 1986 with an import from the UK [40]AppearanceAs a spitz breed  the appearance of the Akita reflects cold-weather adaptations essential to their original function [47] The Akita is a substantial breed for its height with heavy bones [48] Characteristic physical traits of the breed include a large  bear-like head with erect  triangular ears set at a slight angle following the arch of the neck [48] Additionally  the eyes of the Akita are small  dark  deeply set  and triangular in shape [49] Akitas have thick double coats  and tight  well-knuckled  cat-like feet [48] Their tails are carried over the tops of their backs in a gentle or double curl down the loin [50]Mature American-type males measure typically 26-28 in (66–71 cm) at the withers and weigh between 100 and 130 lb (45–59 kg) [48] Mature females typically measure 24-26 in (61–66 cm) and weigh between 70 and 100 lb (32–45 kg) [51] The Japanese type  as stated in the breed standards  is a little smaller and lighter [citation needed]Breed standards state that all dog breed coat colors are allowable in the American Akita  including pinto  all types of brindle  solid white  black mask  white mask  self-colored mask  and even differing colors of undercoat and overlay (guard hairs) [52] This includes the common Shiba Inu coloring pattern known as urajiro [53] The Japanese Akitas  as per the breed standards  are restricted to red  fawn  sesame  brindle  and pure white  all with urajiro markings - whitish coat on the sides of the muzzle  on the cheeks  on the underside of jaw  neck  chest  body  and tail  and on the inside of the legs [9]Coat typesThe two coat types in the Akita are the standard coat length and the long coat [54][55] The long coat is considered a fault in the show ring  however [54][55] The long coat  also known as moku  is the result of an autosomal recessive gene and may occur phenotypically only if both sire and dam are carriers  They have longer (about 3-4 in long) and softer coats[56] and are known to have sweeter temperaments [54][55] This gene is thought to come from the recently extinct[citation needed] Karafuto Ken samurai dog [57]Grooming needsAmerican Akitas are a low-maintenance dog breed  They actually tend to groom themselves like a cat [58] Grooming them should be an easy process  They are fairly heavy shedders and can go heavier than normal two to three times per year  Specifically  Akitas \"blow out\" their coats twice a year [59][60][61][62] Daily brushing could be a good way to reduce this problem [59] This breed needs to bathe every few months  although it can be more often  depending on the needs of each owner  Toenails should be trimmed every month  and their ears should be cleaned once a week TemperamentThe Akita is generally seen as territorial about its property  and can be reserved with strangers [63][64] It is sometimes described as feline in its actions; not unusually  an Akita may clean its face after eating  preen its kennel mate  and be fastidious in the house [65] It is known to be intolerant of other dogs of the same sex  as stated in the AKC breed standard [6]Since it is a large  powerful dog  the Akita is not considered a breed for a first-time dog owner [63][64] The breed has been defined in some countries\\' breed-specific legislation as a dangerous dog [66][67][68][69] The Akita is a large  strong  independent  and dominant dog  A well-trained Akita should be accepting of nonthreatening strangers  otherwise they treat all strangers in an aggressive manner [70] As a breed  they should be good with children; the breed is said to have an affinity for children [71] Not all Akitas necessarily have the same temperament [72][A]Akitas tend to be reactive towards other dogs  so caution must be used in situations when Akitas are likely to be around other dogs  especially unfamiliar ones [citation needed] In particular  Akitas tend to be less tolerant of dogs of the same sex [64] For this reason  Akitas  unless highly socialized  are not generally well-suited for off-leash dog parks [65] Sometimes spontaneous  it needs a confident  consistent handler  without which the dog will be very willful and may become very aggressive to other dogs and animals [72]Autoimmune diseasesMany autoimmune diseases are known to occur in the Akita  including:Vogt–Koyanagi–Harada syndrome [75][76] also known as uveo-dermatologic syndrome  is an autoimmune condition that affects the skin and eyes [77]Autoimmune hemolytic anemia[78] is an autoimmune blood disorder [79]Sebaceous adenitis[80][81][82] is an autoimmune skin disorder believed to be of autosomal recessive inheritance [80]Pemphigus foliaceus[83] is an autoimmune skin disorder  believed to be genetic [84]Systemic lupus erythematosus  or lupus  is a systemic autoimmune connective-tissue disease that can affect any part of the body [85]Immune-mediated endocrine diseasesIn addition to these  some immune-mediated endocrine diseases with a heritable factor can occur  such as:Hypoadrenocorticism  also known as Addison\\'s disease  affects the adrenal glands and is essentially the opposite of Cushing\\'s syndrome [86]Diabetes mellitus  also known as type 1 diabetes  affects the pancreas [86]Hypothyroidism [87] also known as autoimmune hypothyroidism  is an autoimmune disease that affects the thyroid gland [88]Nonimmune-specific conditionsOther nonimmune-specific conditions known to have occurred in the Akita include:Gastric dilation  also known as bloat may progress to gastric dilatation volvulus  in which the stomach twists on itself [89]Microphthalmia  meaning \"small eyes\"  is a developmental disorder of the eye  believed to be an autosomal recessive genetic condition [90]Primary glaucoma [91] results increased pressure within the eyeball [92]Progressive retinal atrophy[91][93] is a progressive degeneration of the retina (portion of the eye that senses light and allows sight) [92]Hip dysplasia[78] is a skeletal condition where the head of the femur does not fit properly into the hip socket it leads to osteoarthritis and pain [94]Elbow dysplasia[78] is a skeletal condition in which the components of the elbow joint (the humerus  radius  and ulna) do not line up properly  leading to osteoarthritis and pain [95]Von Willebrand disease [96][97][98] is a genetic bleeding disorder caused by a deficiency in Von Willebrand factor [99]Cushing\\'s syndrome  also known as hyperadrenocorticism  affects the adrenal glands  and is caused by long-term exposure to high levels of glucocorticosteroids  either manufactured by the body or given as medications [86]Breed-specific conditionsThese breed-specific conditions are mentioned in veterinary literature:Immune sensitivity to vaccines  drugs  insecticides  anesthetics  and tranquilizersPseudohyperkalemia is a rise in the level of potassium that occurs due to its excessive leakage from red blood cells (RBCs) when blood is drawn  This can give a false indication of hyperkalemia on lab tests  hence the prefix pseudo  meaning false [85] This occurs because many East Asian breeds  including Akitas and Shiba Inus  have a higher level of potassium in their RBCs than other dogs [100]Predecessors of the modern Akita were used for hunting bear  wild boar  and deer in Japan as late as 1957 [101] They would be used to flush out the boar and keep it at bay until the hunter could come and kill it  Today  the breed is used primarily as a companion dog  but is currently also known to be used as therapy dogs [102] and compete in all dog competitions  including conformation showing  obedience trials  canine good-citizen program  tracking trials  and agility competition [103] as well as weight pulling  hunting  and Schutzhunde (personal protection dogs) [104]'"
      ]
     },
     "execution_count": 377,
     "metadata": {},
     "output_type": "execute_result"
    }
   ],
   "source": [
    "data_content[2]"
   ]
  },
  {
   "attachments": {},
   "cell_type": "markdown",
   "id": "f6bec4ad",
   "metadata": {},
   "source": [
    "### stanford core nlp\n",
    "method receives a sentence and returns : Normal Text, lemmatized text, POS."
   ]
  },
  {
   "cell_type": "code",
   "execution_count": 378,
   "id": "4d638d93",
   "metadata": {},
   "outputs": [
    {
     "data": {
      "application/vnd.jupyter.widget-view+json": {
       "model_id": "04ebb85e53094b5db69636266497297b",
       "version_major": 2,
       "version_minor": 0
      },
      "text/plain": [
       "Downloading https://raw.githubusercontent.com/stanfordnlp/stanza-resources/main/resources_1.4.1.json:   0%|   …"
      ]
     },
     "metadata": {},
     "output_type": "display_data"
    },
    {
     "name": "stderr",
     "output_type": "stream",
     "text": [
      "2023-05-28 13:55:46 INFO: Downloading default packages for language: en (English) ...\n",
      "2023-05-28 13:55:47 INFO: File exists: /Users/vs21/stanza_resources/en/default.zip\n",
      "2023-05-28 13:55:51 INFO: Finished downloading models and saved to /Users/vs21/stanza_resources.\n",
      "2023-05-28 13:55:51 INFO: Checking for updates to resources.json in case models have been updated.  Note: this behavior can be turned off with download_method=None or download_method=DownloadMethod.REUSE_RESOURCES\n"
     ]
    },
    {
     "data": {
      "application/vnd.jupyter.widget-view+json": {
       "model_id": "6213d6abdcc5488680c20991e9ff9f25",
       "version_major": 2,
       "version_minor": 0
      },
      "text/plain": [
       "Downloading https://raw.githubusercontent.com/stanfordnlp/stanza-resources/main/resources_1.4.1.json:   0%|   …"
      ]
     },
     "metadata": {},
     "output_type": "display_data"
    },
    {
     "name": "stderr",
     "output_type": "stream",
     "text": [
      "2023-05-28 13:55:51 INFO: Loading these models for language: en (English):\n",
      "========================\n",
      "| Processor | Package  |\n",
      "------------------------\n",
      "| tokenize  | combined |\n",
      "| pos       | combined |\n",
      "| lemma     | combined |\n",
      "| depparse  | combined |\n",
      "========================\n",
      "\n",
      "2023-05-28 13:55:51 INFO: Use device: cpu\n",
      "2023-05-28 13:55:51 INFO: Loading: tokenize\n",
      "2023-05-28 13:55:51 INFO: Loading: pos\n",
      "2023-05-28 13:55:52 INFO: Loading: lemma\n",
      "2023-05-28 13:55:52 INFO: Loading: depparse\n",
      "2023-05-28 13:55:52 INFO: Done loading processors!\n"
     ]
    }
   ],
   "source": [
    "import stanza\n",
    "stanza.download('en')       # This downloads the English models for the neural pipeline\n",
    "nlp = stanza.Pipeline('en', processors='tokenize,pos,lemma,depparse') # This sets up a default neural pipeline in English\n"
   ]
  },
  {
   "cell_type": "code",
   "execution_count": 379,
   "id": "88df6286",
   "metadata": {},
   "outputs": [],
   "source": [
    "test_sentence = \"Documents contained the Name of the consultant.\"\n",
    "def core_nlp(sentence):\n",
    "    # method receives a sentence and returns : Normal Text, lemmatized text, POS.\n",
    "    result_list = []\n",
    "    doc = nlp(sentence)\n",
    "    for sentence in doc.sentences:\n",
    "        for word in sentence.words:\n",
    "            result_list.append([word.text, word.lemma, word.pos, word.deprel, word.head])\n",
    "            # deprel doku : https://stanfordnlp.github.io/stanza/depparse.html\n",
    "    return result_list\n"
   ]
  },
  {
   "cell_type": "code",
   "execution_count": 380,
   "id": "eac31372",
   "metadata": {},
   "outputs": [
    {
     "data": {
      "text/plain": [
       "4"
      ]
     },
     "execution_count": 380,
     "metadata": {},
     "output_type": "execute_result"
    }
   ],
   "source": [
    "nlp_results = []\n",
    "for content in data_content:\n",
    "    nlp_results.append(core_nlp(content))\n",
    "\n",
    "len(nlp_results)"
   ]
  },
  {
   "attachments": {},
   "cell_type": "markdown",
   "id": "35f90d91",
   "metadata": {},
   "source": [
    "### get all nouns (potential candidates for classes)\n",
    "extracted from the original text"
   ]
  },
  {
   "cell_type": "code",
   "execution_count": 381,
   "id": "5f0a94e7",
   "metadata": {},
   "outputs": [],
   "source": [
    "def get_all_nouns(nlp_results):\n",
    "    nouns = []\n",
    "    for word in nlp_results:\n",
    "        normal_word = word[0]\n",
    "        lemma_word = word[1]\n",
    "        pos_word = word[2]\n",
    "        deprel_word = word[3]\n",
    "        if pos_word == \"NOUN\":\n",
    "            nouns.append(lemma_word)\n",
    "    return list(set(nouns))"
   ]
  },
  {
   "cell_type": "code",
   "execution_count": 382,
   "id": "a25d1661",
   "metadata": {},
   "outputs": [
    {
     "data": {
      "text/plain": [
       "4"
      ]
     },
     "execution_count": 382,
     "metadata": {},
     "output_type": "execute_result"
    }
   ],
   "source": [
    "data_nouns = []\n",
    "for result in nlp_results:\n",
    "    data_nouns.append(get_all_nouns(result))\n",
    "\n",
    "len(data_nouns)"
   ]
  },
  {
   "cell_type": "code",
   "execution_count": 383,
   "id": "992aaa04",
   "metadata": {},
   "outputs": [
    {
     "data": {
      "text/plain": [
       "114"
      ]
     },
     "execution_count": 383,
     "metadata": {},
     "output_type": "execute_result"
    }
   ],
   "source": [
    "len(data_nouns[3])"
   ]
  },
  {
   "cell_type": "code",
   "execution_count": 384,
   "id": "1acfd21b",
   "metadata": {},
   "outputs": [
    {
     "data": {
      "text/plain": [
       "['damage',\n",
       " 'osteosarcoma',\n",
       " 'exercise',\n",
       " 'blood',\n",
       " 'ceremony',\n",
       " 'hip',\n",
       " 'statue',\n",
       " 'today',\n",
       " 'stranger',\n",
       " 'entropion',\n",
       " 'anemia',\n",
       " 'popularity',\n",
       " 'year',\n",
       " 'CHD',\n",
       " 'hypoplasia',\n",
       " 'game',\n",
       " 'train',\n",
       " 'chance',\n",
       " 'water',\n",
       " 'leash',\n",
       " 'span',\n",
       " 'pet',\n",
       " 'praminor',\n",
       " 'akc',\n",
       " 'pemphigus',\n",
       " 'loyalty',\n",
       " 'hand',\n",
       " 'healthmajor',\n",
       " 'type',\n",
       " 'coat',\n",
       " 'epilepsy',\n",
       " 'undercoat',\n",
       " 'test',\n",
       " 'torsion',\n",
       " 'pattern',\n",
       " 'master',\n",
       " 'thyroidLife',\n",
       " 'drinker',\n",
       " 'size',\n",
       " 'bone',\n",
       " 'concern',\n",
       " 'household',\n",
       " 'weather',\n",
       " 'mask',\n",
       " 'guard',\n",
       " 'area',\n",
       " 'monument',\n",
       " 'dysplasia',\n",
       " 'century',\n",
       " 'akita',\n",
       " 'eye',\n",
       " 'training',\n",
       " 'snow',\n",
       " 'member',\n",
       " 'gait',\n",
       " 'pinto',\n",
       " 'effort',\n",
       " 'tomb',\n",
       " 'job',\n",
       " 'cell',\n",
       " 'result',\n",
       " 'police',\n",
       " 'day',\n",
       " 'combination',\n",
       " 'week',\n",
       " 'hypothyroidismoccasionally',\n",
       " 'patellar',\n",
       " 'companion',\n",
       " 'house',\n",
       " 'ligament',\n",
       " 'pra',\n",
       " 'breeder',\n",
       " 'homage',\n",
       " 'protector',\n",
       " 'temperament',\n",
       " 'substance',\n",
       " 'vkh',\n",
       " 'station',\n",
       " 'elbow',\n",
       " 'work',\n",
       " 'cruciate',\n",
       " 'hair',\n",
       " 'ancestor',\n",
       " 'syndrome',\n",
       " 'rupture',\n",
       " 'admirer',\n",
       " 'hiking',\n",
       " 'recognition',\n",
       " 'jog',\n",
       " 'adenitis',\n",
       " 'spitz',\n",
       " 'animal',\n",
       " 'likeness',\n",
       " 'terrain',\n",
       " 'breed',\n",
       " 'yearsNote',\n",
       " 'inch',\n",
       " 'cataract',\n",
       " 'trait',\n",
       " 'representative',\n",
       " 'length',\n",
       " 'dog',\n",
       " 'insulation',\n",
       " 'body',\n",
       " 'serviceman',\n",
       " 'evening',\n",
       " 'lymphosarcoma',\n",
       " 'luxation',\n",
       " 'heritage',\n",
       " 'polyneuropathy',\n",
       " 'family',\n",
       " 'onion',\n",
       " 'build',\n",
       " 'time']"
      ]
     },
     "execution_count": 384,
     "metadata": {},
     "output_type": "execute_result"
    }
   ],
   "source": [
    "data_nouns[3]"
   ]
  },
  {
   "attachments": {},
   "cell_type": "markdown",
   "id": "2e57ccdf",
   "metadata": {},
   "source": [
    "# One hot encoding"
   ]
  },
  {
   "cell_type": "code",
   "execution_count": 385,
   "id": "944e8fb3",
   "metadata": {},
   "outputs": [
    {
     "data": {
      "text/plain": [
       "540"
      ]
     },
     "execution_count": 385,
     "metadata": {},
     "output_type": "execute_result"
    }
   ],
   "source": [
    "all_nouns = [elem for sublist in data_nouns for elem in sublist]\n",
    "vocabulary = list(set([elem for sublist in data_nouns for elem in sublist]))\n",
    "len(vocabulary)"
   ]
  },
  {
   "cell_type": "code",
   "execution_count": 386,
   "id": "35af1aff",
   "metadata": {},
   "outputs": [
    {
     "data": {
      "text/plain": [
       "189"
      ]
     },
     "execution_count": 386,
     "metadata": {},
     "output_type": "execute_result"
    }
   ],
   "source": [
    "# mutual nouns:\n",
    "\n",
    "len(all_nouns) - len(list(set(vocabulary)))\n"
   ]
  },
  {
   "cell_type": "code",
   "execution_count": 387,
   "id": "8f75a8e7",
   "metadata": {},
   "outputs": [],
   "source": [
    "from numpy import array\n",
    "from numpy import argmax\n",
    "from sklearn.preprocessing import LabelEncoder\n",
    "from sklearn.preprocessing import OneHotEncoder\n",
    "\n",
    "def integer_encoding(vocab):\n",
    "    # function that takes a list of strings + the entire vocabulary and outputs a one hot encoding\n",
    "    values = array(vocab)\n",
    "    label_encoder = LabelEncoder()\n",
    "    integer_encoded = label_encoder.fit_transform(values)\n",
    "\n",
    "    return {values[i]:integer_encoded[i] for i, val in enumerate(vocab)}\n",
    "\n"
   ]
  },
  {
   "cell_type": "code",
   "execution_count": 388,
   "id": "ec7c4667",
   "metadata": {},
   "outputs": [],
   "source": [
    "encoding = integer_encoding(vocabulary)"
   ]
  },
  {
   "cell_type": "code",
   "execution_count": 389,
   "id": "8542c35f",
   "metadata": {},
   "outputs": [
    {
     "data": {
      "text/plain": [
       "540"
      ]
     },
     "execution_count": 389,
     "metadata": {},
     "output_type": "execute_result"
    }
   ],
   "source": [
    "len(encoding)"
   ]
  },
  {
   "cell_type": "code",
   "execution_count": 390,
   "id": "0f83861e",
   "metadata": {},
   "outputs": [],
   "source": [
    "def create_one_hot_vector(input_data, encoding):\n",
    "    # create empty vector\n",
    "    collect = [0 for i in range(len(encoding))]\n",
    "    for word in input_data:\n",
    "        collect[encoding[word]] = 1\n",
    "    return collect"
   ]
  },
  {
   "cell_type": "code",
   "execution_count": 391,
   "id": "9dfd4760",
   "metadata": {},
   "outputs": [
    {
     "data": {
      "text/plain": [
       "1"
      ]
     },
     "execution_count": 391,
     "metadata": {},
     "output_type": "execute_result"
    }
   ],
   "source": [
    "input_data = [\"toy\", \"toy\"]\n",
    "# input_data = data_nouns[3]\n",
    "\n",
    "test_function = create_one_hot_vector(input_data, encoding)\n",
    "test_function.count(1)\n",
    "# test_function.count(0)"
   ]
  },
  {
   "attachments": {},
   "cell_type": "markdown",
   "id": "aae34e1c",
   "metadata": {},
   "source": [
    "# Distance between two one hot vectors"
   ]
  },
  {
   "cell_type": "code",
   "execution_count": 392,
   "id": "09743c63",
   "metadata": {},
   "outputs": [
    {
     "data": {
      "text/plain": [
       "0.0"
      ]
     },
     "execution_count": 392,
     "metadata": {},
     "output_type": "execute_result"
    }
   ],
   "source": [
    "import numpy as np\n",
    "from numpy.linalg import norm\n",
    "\n",
    "X = np.array(create_one_hot_vector([\"evening\", \"mask\"], encoding))\n",
    "Y = np.array(create_one_hot_vector([\"toy\", \"homage\"], encoding))\n",
    "\n",
    "cosine = np.dot(X,Y)/(norm(X)*norm(Y))\n",
    "cosine"
   ]
  },
  {
   "cell_type": "code",
   "execution_count": 393,
   "id": "e48465c5",
   "metadata": {},
   "outputs": [
    {
     "data": {
      "text/plain": [
       "0.0"
      ]
     },
     "execution_count": 393,
     "metadata": {},
     "output_type": "execute_result"
    }
   ],
   "source": [
    "def get_distance(X, Y):\n",
    "    return np.dot(X,Y)/(norm(X)*norm(Y))\n",
    "\n",
    "get_distance(X,Y)"
   ]
  },
  {
   "attachments": {},
   "cell_type": "markdown",
   "id": "01236c26",
   "metadata": {},
   "source": [
    "# Requirement Engineer"
   ]
  },
  {
   "cell_type": "code",
   "execution_count": 394,
   "id": "eb6a258c",
   "metadata": {},
   "outputs": [],
   "source": [
    "class r_engineer:\n",
    "    def __init__(self, nouns):\n",
    "        self.nouns = nouns\n",
    "    \n",
    "    def get_nouns(self):\n",
    "        return self.nouns\n",
    "\n",
    "    def get_mutual_nouns(self, customer_nouns):\n",
    "        return list(set(customer_nouns).intersection(self.nouns))\n",
    "    \n",
    "    def append_to_own_nouns(self, customer_nouns):\n",
    "        self.nouns = list(set(self.nouns + customer_nouns))\n"
   ]
  },
  {
   "cell_type": "code",
   "execution_count": 395,
   "id": "9b5f7a23",
   "metadata": {},
   "outputs": [
    {
     "data": {
      "text/plain": [
       "41"
      ]
     },
     "execution_count": 395,
     "metadata": {},
     "output_type": "execute_result"
    }
   ],
   "source": [
    "r_eng = r_engineer(data_nouns[2])\n",
    "\n",
    "# r_eng.get_nouns()\n",
    "mutual_nouns = r_eng.get_mutual_nouns(data_nouns[1])\n",
    "len(mutual_nouns)"
   ]
  },
  {
   "attachments": {},
   "cell_type": "markdown",
   "id": "3804077d",
   "metadata": {},
   "source": [
    "# Customer"
   ]
  },
  {
   "cell_type": "code",
   "execution_count": 396,
   "id": "b068811b",
   "metadata": {},
   "outputs": [],
   "source": [
    "class customer:\n",
    "    def __init__(self, nouns, name):\n",
    "        self.nouns = nouns\n",
    "        self.name = name\n",
    "    \n",
    "    def get_nouns(self):\n",
    "        return self.nouns\n",
    "    \n",
    "    def create_final_nouns(self, mutual_nouns):\n",
    "        final_nouns = self.nouns + mutual_nouns\n",
    "        self.final_nouns = list(set(final_nouns))\n",
    "        self.nouns = list(set(final_nouns))\n",
    "\n",
    "        return self.final_nouns\n",
    "    \n",
    "    def append_to_final_nouns(self, r_eng_nouns, cooperation_factor):\n",
    "        self.final_nouns = list(set(self.final_nouns + r_eng_nouns[:int(len(r_eng_nouns) * cooperation_factor)]))\n",
    "        self.nouns = list(set(self.final_nouns + r_eng_nouns[:int(len(r_eng_nouns) * cooperation_factor)]))\n",
    "        return self.final_nouns\n",
    "    \n",
    "    \n"
   ]
  },
  {
   "cell_type": "code",
   "execution_count": 397,
   "id": "68cc93b2",
   "metadata": {},
   "outputs": [
    {
     "name": "stdout",
     "output_type": "stream",
     "text": [
      "['puppy', 'owner', 'visit', 'chow', 'Exercise', 'classification', 'statue', 'today', 'stranger', 'appearance', 'section', 'drool', 'popularity', 'year', 'patch', 'game', 'requirement', 'averageenergy', 'government', 'pound', 'color', 'mediumcharacteristics', 'weight', 'akc', 'show', 'loyalty', 'muzzle', 'triangle', 'coat', 'workingukc', 'undercoat', 'course', 'aggression', 'characteristic', 'brindle', 'heart', 'moderatebred', 'size', 'person', 'energy', 'breeding', 'mask', 'instinct', 'country', 'guard', 'purpose', 'personality', 'lowtendency', 'monument', 'ear', 'moderateclub', 'crossing', 'history', 'century', 'room', 'cat', 'name', 'bear', 'eye', 'training', 'hunting', 'happiness', 'parent', 'Recognition', 'prevalence', 'strength', 'kilogram', 'member', 'pinto', 'respect', 'bark', 'child', 'leg', 'home', 'job', 'chest', 'courage', 'police', 'Range', 'need', 'background', 'pair', 'protection', 'companion', 'status', 'symbol', 'averagelongevity', 'life', 'base', 'hair', 'top', 'neck', 'people', 'cost', 'female', 'tendency', 'friend', 'expectation', 'care', 'elk', 'treasure', 'herd', 'tail', 'animal', 'grooming', 'attention', 'companionship', 'snore', 'ability', 'coatColor', 'bearsCoat', 'watchdog', 'breed', 'gesture', 'leader', 'inch', 'growth', 'head', 'length', 'dog', 'male', 'climate', 'body', 'company', 'dig', 'feature', 'endurance', 'devotion', 'health', 'addition', 'age', 'glance', 'month', 'family', 'expression', 'group', 'deer', 'lb', 'level']\n",
      "['puppy', 'owner', 'exercise', 'wolf', 'mealtime', 'housebreak', 'advice', 'stranger', 'chargepossessiveness', 'ferocity', 'appearance', 'hunter', 'creature', 'game', 'behavior', 'chance', 'livestock', 'pet', 'guy', 'color', 'presencelook', 'food', 'socialization', 'coat', 'pro', 'patternscarry', 'aggression', 'characteristic', 'mind', 'size', 'person', 'breeding', 'instinct', 'household', 'information', 'weather', 'guard', 'purpose', 'clothing', 'book', 'area', 'personality', 'method', 'inheritance', 'history', 'deterrentDespite', 'typeis', 'fur', 'cat', 'training', 'risk', 'snow', 'amount', 'choice', 'homeowner', 'liability', 'trainer', 'program', 'respect', 'bark', 'insurance', 'child', 'difference', 'carpeting', 'neighbor', 'boss', 'disagreement', 'day', 'deal', 'plenty', 'socializing', 'teasing', 'upholstery', 'sign', 'breeder', 'intelligence', 'temperament', 'walk', 'Dog', 'raising', 'run', 'animalsStrong', 'policy', 'consultant', 'hair', 'perception', 'people', 'exercisedo', 'thinking', 'female', 'way', 'friend', 'care', 'author', 'shedding', 'animal', 'lawsuit', 'problem', 'challenge', 'breed', 'skill', 'inu', 'trait', 'reward', 'dog', 'nonsense', 'male', 'con', 'body', 'handling', 'bowl', 'rescue', 'management', 'exposure', 'toy', 'adult', 'thing', 'step', 'age', 'health', 'language', 'hour', 'expression', 'sex', 'group', 'deer', 'time', 'praise', 'shelter']\n",
      "['damage', 'osteosarcoma', 'exercise', 'blood', 'ceremony', 'hip', 'statue', 'today', 'stranger', 'entropion', 'anemia', 'popularity', 'year', 'CHD', 'hypoplasia', 'game', 'train', 'chance', 'water', 'leash', 'span', 'pet', 'praminor', 'akc', 'pemphigus', 'loyalty', 'hand', 'healthmajor', 'type', 'coat', 'epilepsy', 'undercoat', 'test', 'torsion', 'pattern', 'master', 'thyroidLife', 'drinker', 'size', 'bone', 'concern', 'household', 'weather', 'mask', 'guard', 'area', 'monument', 'dysplasia', 'century', 'akita', 'eye', 'training', 'snow', 'member', 'gait', 'pinto', 'effort', 'tomb', 'job', 'cell', 'result', 'police', 'day', 'combination', 'week', 'hypothyroidismoccasionally', 'patellar', 'companion', 'house', 'ligament', 'pra', 'breeder', 'homage', 'protector', 'temperament', 'substance', 'vkh', 'station', 'elbow', 'work', 'cruciate', 'hair', 'ancestor', 'syndrome', 'rupture', 'admirer', 'hiking', 'recognition', 'jog', 'adenitis', 'spitz', 'animal', 'likeness', 'terrain', 'breed', 'yearsNote', 'inch', 'cataract', 'trait', 'representative', 'length', 'dog', 'insulation', 'body', 'serviceman', 'evening', 'lymphosarcoma', 'luxation', 'heritage', 'polyneuropathy', 'family', 'onion', 'build', 'time']\n",
      "140\n",
      "150\n"
     ]
    }
   ],
   "source": [
    "customer_1 = customer(data_nouns[0], \"customer_1\")\n",
    "customer_2 = customer(data_nouns[1], \"customer_2\")\n",
    "customer_3 = customer(data_nouns[3], \"customer_3\")\n",
    "\n",
    "print(customer_1.nouns)\n",
    "print(customer_2.nouns)\n",
    "print(customer_3.nouns)\n",
    "\n",
    "len(customer_1.nouns)\n",
    "\n",
    "final_nouns = customer_1.create_final_nouns([\"bmw\"])\n",
    "print(len(final_nouns))\n",
    "\n",
    "final_nouns = customer_1.append_to_final_nouns([\"test\" + str(i) for i in range(10)], 1)\n",
    "print(len(final_nouns))"
   ]
  },
  {
   "attachments": {},
   "cell_type": "markdown",
   "id": "a24ca6c2",
   "metadata": {},
   "source": [
    "# Interaction"
   ]
  },
  {
   "attachments": {},
   "cell_type": "markdown",
   "id": "38d2e863",
   "metadata": {},
   "source": [
    "### pseudocode:\n",
    "\n",
    "    def interaction(r_engineer (obj), customer (obj), cooperation_factor):\n",
    "        customer_nouns = customer.get_nouns()\n",
    "        mutual_nouns = r_engineer.get_mutual_Nouns(customer_nouns)\n",
    "        final_nouns = customer.create_final_nouns(mutual_nouns)\n",
    "        r_engineer_nouns = r_engineer.get_nouns()\n",
    "        final_nouns = customer.append_to_final_nouns(r_engineer_nouns, cooperation_factor)\n",
    "\n",
    "        return final_nouns # list with nouns"
   ]
  },
  {
   "cell_type": "code",
   "execution_count": 398,
   "id": "31663fd0",
   "metadata": {},
   "outputs": [],
   "source": [
    "customer_1 = customer(data_nouns[0], \"customer_1\")\n",
    "r_eng = r_engineer(data_nouns[2])"
   ]
  },
  {
   "cell_type": "code",
   "execution_count": 399,
   "id": "0d4afd0a",
   "metadata": {},
   "outputs": [
    {
     "name": "stdout",
     "output_type": "stream",
     "text": [
      "139\n",
      "347\n",
      "486\n"
     ]
    }
   ],
   "source": [
    "print(len(customer_1.nouns))\n",
    "print(len(r_eng.nouns))\n",
    "print(len(r_eng.nouns) + len(customer_1.nouns))"
   ]
  },
  {
   "cell_type": "code",
   "execution_count": 400,
   "id": "1bf36101",
   "metadata": {},
   "outputs": [],
   "source": [
    "def interaction(r_engineer, customer, cooperation_factor):\n",
    "    customer_nouns = customer.get_nouns()\n",
    "    mutual_nouns = r_engineer.get_mutual_nouns(customer_nouns)\n",
    "    final_nouns = customer.create_final_nouns(mutual_nouns)\n",
    "    r_engineer_nouns = r_engineer.get_nouns()\n",
    "    final_nouns = customer.append_to_final_nouns(r_engineer_nouns, cooperation_factor)\n",
    "    r_engineer.append_to_own_nouns(final_nouns)\n",
    "\n",
    "    return final_nouns, r_engineer.get_nouns(), customer.get_nouns()\n",
    "\n",
    "final_nouns, r_engineer_nouns, customer_nouns = interaction(r_eng, customer_1, 0.5)"
   ]
  },
  {
   "cell_type": "code",
   "execution_count": 403,
   "id": "bcd8dc42",
   "metadata": {},
   "outputs": [
    {
     "name": "stdout",
     "output_type": "stream",
     "text": [
      "279\n",
      "279\n",
      "420\n",
      "420\n"
     ]
    }
   ],
   "source": [
    "print(len(final_nouns))\n",
    "print(len(customer_nouns))\n",
    "print(len(r_eng.nouns))\n",
    "print(len(r_engineer_nouns))\n"
   ]
  },
  {
   "attachments": {},
   "cell_type": "markdown",
   "id": "2a4fa6f0",
   "metadata": {},
   "source": [
    "# Experiment"
   ]
  },
  {
   "cell_type": "code",
   "execution_count": 404,
   "id": "92fe5a60",
   "metadata": {},
   "outputs": [
    {
     "data": {
      "text/plain": [
       "[0, 0.1, 0.2, 0.3, 0.4, 0.5, 0.6, 0.7, 0.8, 0.9, 1]"
      ]
     },
     "execution_count": 404,
     "metadata": {},
     "output_type": "execute_result"
    }
   ],
   "source": [
    "cooperation_factors = [0, 0.1, 0.2, 0.3, 0.4, 0.5, 0.6, 0.7, 0.8, 0.9, 1]\n",
    "cooperation_factors"
   ]
  },
  {
   "cell_type": "code",
   "execution_count": 405,
   "id": "1dcbf2ac",
   "metadata": {},
   "outputs": [],
   "source": [
    "r_eng = r_engineer(data_nouns[2])\n",
    "\n",
    "customer_1 = customer(data_nouns[0], \"customer_1\")\n",
    "customer_2 = customer(data_nouns[1], \"customer_2\")\n",
    "customer_3 = customer(data_nouns[3], \"customer_3\")\n",
    "customers = [customer_1, customer_2, customer_3]"
   ]
  },
  {
   "cell_type": "code",
   "execution_count": 406,
   "id": "39406692",
   "metadata": {},
   "outputs": [
    {
     "data": {
      "text/plain": [
       "'customer_1'"
      ]
     },
     "execution_count": 406,
     "metadata": {},
     "output_type": "execute_result"
    }
   ],
   "source": [
    "customer_1.__class__.__name__\n",
    "customer_1.name"
   ]
  },
  {
   "cell_type": "code",
   "execution_count": 407,
   "id": "97524958",
   "metadata": {},
   "outputs": [],
   "source": [
    "collect = []\n",
    "\n",
    "for customer in customers:\n",
    "    for cp in cooperation_factors:\n",
    "        r_eng = r_engineer(data_nouns[2]) # initiliaze re eng \n",
    "        interaction_nouns, r_engineer_nouns, customer_nouns = interaction(r_eng, customer, cp)\n",
    "        result_vector = create_one_hot_vector(interaction_nouns, encoding)\n",
    "        r_eng_vector = create_one_hot_vector(r_engineer_nouns, encoding)\n",
    "        customer_vector = create_one_hot_vector(customer_nouns, encoding)\n",
    "        collect.append({\"customer\": customer.name, \"cp\": cp, \"result_vector\": result_vector, \"r_eng_vector\": r_eng_vector, \"customer_vector\": customer_vector})"
   ]
  },
  {
   "cell_type": "code",
   "execution_count": 408,
   "id": "588a979a",
   "metadata": {},
   "outputs": [
    {
     "data": {
      "text/plain": [
       "33"
      ]
     },
     "execution_count": 408,
     "metadata": {},
     "output_type": "execute_result"
    }
   ],
   "source": [
    "len(collect)"
   ]
  },
  {
   "cell_type": "code",
   "execution_count": 409,
   "id": "226f7ba5",
   "metadata": {},
   "outputs": [
    {
     "data": {
      "text/plain": [
       "'customer_1'"
      ]
     },
     "execution_count": 409,
     "metadata": {},
     "output_type": "execute_result"
    }
   ],
   "source": [
    "collect[0][\"customer\"]"
   ]
  },
  {
   "cell_type": "code",
   "execution_count": 410,
   "id": "0656dd3a",
   "metadata": {},
   "outputs": [
    {
     "name": "stdout",
     "output_type": "stream",
     "text": [
      "[540]\n"
     ]
    }
   ],
   "source": [
    "test = []\n",
    "for element in collect:\n",
    "    if len(element[\"result_vector\"]) not in test:\n",
    "        test.append(len(element[\"result_vector\"]))\n",
    "\n",
    "print(test)"
   ]
  },
  {
   "cell_type": "code",
   "execution_count": 411,
   "id": "46946acc",
   "metadata": {},
   "outputs": [
    {
     "data": {
      "text/plain": [
       "420"
      ]
     },
     "execution_count": 411,
     "metadata": {},
     "output_type": "execute_result"
    }
   ],
   "source": [
    "collect[6][\"r_eng_vector\"].count(1)"
   ]
  },
  {
   "attachments": {},
   "cell_type": "markdown",
   "id": "3b2315ce",
   "metadata": {},
   "source": [
    "# analyze results"
   ]
  },
  {
   "cell_type": "code",
   "execution_count": 412,
   "id": "b8627ee1",
   "metadata": {},
   "outputs": [],
   "source": [
    "def analyze_result_vector(first, second, cp):\n",
    "\n",
    "    for element in collect:\n",
    "        if element[\"customer\"] == first and element[\"cp\"] == cp:\n",
    "            vector_1 = element[\"result_vector\"]\n",
    "        if element[\"customer\"] == second and element[\"cp\"] == cp:\n",
    "            vector_2 = element[\"result_vector\"]\n",
    "            \n",
    "    return get_distance(np.array(vector_1), np.array(vector_2))"
   ]
  },
  {
   "cell_type": "code",
   "execution_count": 413,
   "id": "85b900df",
   "metadata": {},
   "outputs": [],
   "source": [
    "# analyze final subjects and plot them\n",
    "X = [[], [], []] # three list for the three comparisions\n",
    "Y = [[], [], []]\n",
    "\n",
    "for cp in cooperation_factors:\n",
    "    # compare customer_1 - customer_2\n",
    "    Y[0].append(cp)\n",
    "    X[0].append(analyze_result_vector(\"customer_1\", \"customer_2\", cp))\n",
    "\n",
    "    # compare customer_1 - customer_3\n",
    "    Y[1].append(cp)\n",
    "    X[1].append(analyze_result_vector(\"customer_1\", \"customer_3\", cp))\n",
    "\n",
    "    # compare customer_2 - customer_3\n",
    "    Y[2].append(cp)\n",
    "    X[2].append(analyze_result_vector(\"customer_2\", \"customer_3\", cp))"
   ]
  },
  {
   "cell_type": "code",
   "execution_count": 414,
   "id": "5be03236",
   "metadata": {},
   "outputs": [
    {
     "data": {
      "text/plain": [
       "[0, 0.1, 0.2, 0.3, 0.4, 0.5, 0.6, 0.7, 0.8, 0.9, 1]"
      ]
     },
     "execution_count": 414,
     "metadata": {},
     "output_type": "execute_result"
    }
   ],
   "source": [
    "Y[0]"
   ]
  },
  {
   "cell_type": "code",
   "execution_count": 415,
   "id": "dcb7896d",
   "metadata": {},
   "outputs": [
    {
     "data": {
      "text/plain": [
       "[0.27631182339267374,\n",
       " 0.41126484722048856,\n",
       " 0.5260488017085674,\n",
       " 0.6027460097699345,\n",
       " 0.6626559463445616,\n",
       " 0.7058924461307553,\n",
       " 0.7480716423724398,\n",
       " 0.7760889462053443,\n",
       " 0.8028082651489932,\n",
       " 0.8257422426792247,\n",
       " 0.8445744289667945]"
      ]
     },
     "execution_count": 415,
     "metadata": {},
     "output_type": "execute_result"
    }
   ],
   "source": [
    "X[0]"
   ]
  },
  {
   "cell_type": "code",
   "execution_count": 416,
   "id": "93a97c46",
   "metadata": {},
   "outputs": [
    {
     "data": {
      "image/png": "[encoded data removed]",
      "text/plain": [
       "<Figure size 432x288 with 1 Axes>"
      ]
     },
     "metadata": {
      "needs_background": "light"
     },
     "output_type": "display_data"
    }
   ],
   "source": [
    "import matplotlib.pyplot as plt\n",
    "\n",
    "plt.ylabel(\"cosine similiarity\")\n",
    "plt.xlabel(\"cooperation factor\")\n",
    "\n",
    "plt.legend([])\n",
    "plt.title(\"Compare final nouns\")\n",
    "\n",
    "plt.plot(Y[0], X[0], label=\"customer_1 - customer_2\")\n",
    "plt.plot(Y[1], X[1], label=\"customer_1 - customer_3\")\n",
    "plt.plot(Y[2], X[2], label=\"customer_2 - customer_3\")\n",
    "\n",
    "plt.legend(loc=\"upper left\")\n",
    "plt.ylim(0, 1.0)\n",
    "\n",
    "plt.show()"
   ]
  },
  {
   "cell_type": "code",
   "execution_count": 417,
   "id": "7e9b32c5",
   "metadata": {},
   "outputs": [
    {
     "name": "stdout",
     "output_type": "stream",
     "text": [
      "[0, 0, 0, 0, 0, 0, 0, 1, 0, 1, 1, 1, 0, 0, 0, 1, 0, 0, 0, 0, 0, 1, 1, 0, 1, 0, 0, 0, 0, 0, 0, 0, 0, 1, 0, 0, 1, 0, 0, 0, 0, 0, 0, 1, 0, 1, 1, 0, 0, 1, 1, 1, 0, 1, 1, 0, 0, 0, 0, 0, 0, 1, 0, 0, 0, 0, 0, 1, 0, 1, 1, 0, 0, 0, 0, 0, 1, 0, 0, 1, 0, 0, 0, 1, 0, 0, 0, 1, 0, 0, 1, 1, 0, 1, 0, 0, 0, 0, 1, 1, 0, 0, 1, 1, 1, 0, 0, 1, 1, 1, 0, 0, 0, 0, 0, 0, 0, 0, 0, 0, 1, 1, 1, 1, 0, 0, 1, 0, 0, 0, 0, 0, 0, 0, 0, 0, 0, 0, 0, 1, 0, 0, 0, 0, 0, 1, 0, 0, 1, 0, 0, 0, 0, 0, 0, 0, 0, 0, 0, 1, 0, 1, 0, 0, 1, 0, 0, 1, 1, 1, 0, 0, 0, 0, 0, 0, 0, 0, 1, 0, 1, 1, 0, 0, 0, 0, 1, 0, 0, 0, 0, 1, 0, 1, 0, 0, 0, 0, 0, 0, 0, 0, 0, 1, 0, 0, 0, 1, 0, 1, 1, 0, 0, 0, 0, 1, 1, 1, 1, 1, 0, 0, 1, 0, 0, 0, 1, 1, 1, 0, 1, 0, 1, 0, 0, 0, 1, 0, 1, 0, 0, 0, 0, 0, 0, 0, 0, 1, 0, 0, 0, 0, 0, 0, 0, 0, 0, 1, 0, 0, 0, 0, 0, 1, 0, 0, 0, 0, 0, 0, 0, 0, 1, 0, 0, 0, 0, 0, 1, 0, 0, 0, 0, 0, 1, 1, 0, 0, 1, 0, 1, 1, 0, 1, 0, 0, 0, 0, 0, 0, 0, 0, 1, 1, 0, 0, 0, 0, 1, 0, 0, 0, 0, 1, 0, 0, 0, 0, 0, 0, 0, 1, 0, 1, 0, 0, 0, 1, 1, 0, 1, 1, 0, 0, 1, 1, 1, 1, 0, 0, 0, 0, 0, 0, 0, 0, 0, 0, 0, 0, 0, 0, 0, 0, 0, 1, 0, 1, 0, 1, 0, 0, 1, 0, 0, 0, 0, 1, 0, 1, 1, 0, 0, 0, 1, 0, 0, 1, 0, 0, 1, 0, 0, 0, 1, 0, 0, 0, 0, 0, 0, 0, 1, 0, 0, 0, 0, 0, 0, 0, 0, 1, 0, 0, 0, 1, 1, 0, 0, 0, 0, 0, 0, 0, 0, 0, 0, 0, 1, 0, 1, 0, 0, 0, 0, 0, 0, 0, 1, 0, 0, 0, 0, 0, 1, 0, 0, 0, 0, 0, 0, 0, 0, 0, 0, 0, 1, 0, 0, 0, 0, 0, 0, 1, 0, 0, 1, 0, 0, 0, 0, 0, 0, 0, 0, 0, 1, 1, 0, 0, 0, 0, 0, 1, 1, 0, 0, 1, 0, 1, 0, 0, 1, 0, 0, 0, 0, 0, 0, 0, 0, 0, 0, 0, 1, 0, 0, 1, 0, 0, 0, 0, 0, 0, 0, 1, 0, 0, 1, 0, 1, 0, 0, 0, 1, 0, 0, 0, 0, 0, 0, 0, 1, 0, 0, 0, 0, 1, 0, 0, 0, 0, 1, 0, 0, 0, 1, 0, 1, 0]\n"
     ]
    }
   ],
   "source": [
    "print(collect[0][\"customer_vector\"])"
   ]
  },
  {
   "cell_type": "code",
   "execution_count": 418,
   "id": "5a05e954",
   "metadata": {},
   "outputs": [
    {
     "name": "stdout",
     "output_type": "stream",
     "text": [
      "[1, 1, 0, 1, 1, 0, 0, 1, 1, 1, 1, 1, 1, 1, 1, 1, 1, 0, 0, 0, 1, 1, 1, 1, 1, 1, 0, 0, 1, 1, 1, 0, 1, 1, 0, 1, 1, 1, 0, 1, 1, 1, 1, 1, 0, 1, 1, 1, 0, 1, 1, 1, 1, 1, 1, 1, 0, 0, 1, 1, 1, 1, 1, 0, 0, 0, 1, 1, 0, 1, 1, 1, 1, 1, 0, 1, 1, 0, 1, 1, 0, 0, 1, 1, 1, 0, 0, 1, 0, 1, 1, 1, 0, 1, 1, 1, 1, 1, 1, 1, 0, 0, 1, 1, 1, 1, 1, 1, 1, 1, 1, 0, 1, 0, 0, 1, 1, 1, 0, 1, 1, 1, 1, 1, 0, 1, 1, 0, 1, 1, 0, 1, 0, 1, 1, 1, 1, 1, 1, 1, 1, 1, 1, 0, 1, 1, 1, 1, 1, 1, 1, 0, 1, 1, 1, 1, 1, 1, 1, 1, 0, 1, 0, 1, 1, 1, 1, 1, 1, 1, 0, 0, 1, 1, 0, 1, 0, 0, 1, 1, 1, 1, 1, 0, 1, 1, 1, 1, 1, 1, 1, 1, 1, 1, 1, 0, 1, 0, 1, 1, 1, 0, 1, 1, 1, 1, 0, 1, 1, 1, 1, 1, 1, 1, 1, 1, 1, 1, 1, 1, 0, 0, 1, 0, 1, 0, 1, 1, 1, 0, 1, 0, 1, 0, 0, 1, 1, 0, 1, 0, 1, 0, 1, 0, 0, 1, 1, 1, 1, 1, 1, 0, 1, 0, 1, 1, 1, 1, 0, 1, 1, 1, 1, 1, 1, 0, 0, 0, 1, 0, 1, 1, 1, 0, 1, 1, 1, 1, 1, 0, 0, 0, 1, 0, 1, 1, 1, 1, 1, 1, 1, 1, 0, 1, 0, 1, 0, 1, 1, 1, 0, 1, 1, 1, 1, 0, 0, 1, 1, 0, 1, 0, 1, 1, 1, 1, 1, 0, 0, 0, 1, 1, 0, 1, 0, 1, 0, 1, 1, 1, 1, 1, 1, 1, 1, 1, 1, 1, 0, 1, 1, 1, 0, 1, 1, 1, 0, 1, 0, 1, 1, 1, 0, 1, 1, 1, 1, 1, 1, 1, 1, 1, 1, 0, 1, 0, 0, 1, 0, 1, 1, 1, 1, 1, 1, 0, 1, 1, 0, 0, 1, 1, 1, 1, 1, 0, 0, 0, 1, 1, 0, 1, 1, 1, 0, 0, 1, 1, 1, 1, 1, 1, 0, 1, 1, 1, 1, 0, 1, 1, 0, 1, 0, 1, 1, 1, 0, 0, 1, 0, 1, 1, 1, 0, 0, 1, 1, 0, 1, 0, 0, 1, 1, 1, 1, 1, 1, 1, 1, 1, 1, 1, 1, 0, 0, 1, 1, 1, 1, 0, 1, 1, 1, 1, 0, 1, 1, 0, 0, 0, 1, 0, 0, 1, 1, 1, 1, 1, 0, 1, 1, 1, 1, 1, 1, 0, 0, 1, 1, 1, 0, 1, 1, 1, 1, 0, 1, 0, 0, 0, 1, 0, 1, 1, 1, 1, 0, 1, 0, 1, 0, 1, 1, 1, 0, 1, 1, 1, 1, 1, 1, 1, 0, 1, 1, 1, 0, 1, 1, 1, 1, 1, 1, 0, 1, 0, 1, 1, 0, 1, 1, 1, 1, 1, 0, 1, 1, 1, 1, 0]\n"
     ]
    }
   ],
   "source": [
    "print(collect[9][\"customer_vector\"])"
   ]
  },
  {
   "cell_type": "code",
   "execution_count": 419,
   "id": "6eab7ccb",
   "metadata": {},
   "outputs": [],
   "source": [
    "def analyze_participants_vector(reference_customer, cp):\n",
    "\n",
    "    for element in collect:\n",
    "        if element[\"customer\"] == reference_customer and element[\"cp\"] == cp:\n",
    "            vector_1 = element[\"customer_vector\"]\n",
    "            vector_2 = element[\"r_eng_vector\"]\n",
    "            \n",
    "    \n",
    "    return get_distance(np.array(vector_1), np.array(vector_2))"
   ]
  },
  {
   "cell_type": "code",
   "execution_count": 420,
   "id": "7531b1f9",
   "metadata": {},
   "outputs": [],
   "source": [
    "# analyze final subjects and plot them\n",
    "X = [[], [], []] # three list for the three comparisions\n",
    "Y = [[], [], []]\n",
    "\n",
    "for cp in cooperation_factors:\n",
    "    \n",
    "    Y[0].append(cp)\n",
    "    X[0].append(analyze_participants_vector(\"customer_1\", cp))\n",
    "    # ...\n",
    "    Y[1].append(cp)\n",
    "    X[1].append(analyze_participants_vector(\"customer_2\", cp))\n",
    "    # ...\n",
    "    Y[2].append(cp)\n",
    "    X[2].append(analyze_participants_vector(\"customer_3\", cp))"
   ]
  },
  {
   "cell_type": "code",
   "execution_count": 421,
   "id": "da5c3bd4",
   "metadata": {},
   "outputs": [
    {
     "data": {
      "text/plain": [
       "[0.5752846086524313,\n",
       " 0.6229729031789731,\n",
       " 0.6778818551368738,\n",
       " 0.7204495950776981,\n",
       " 0.768424485864545,\n",
       " 0.8150372471769093,\n",
       " 0.8549575316659775,\n",
       " 0.8944271909999159,\n",
       " 0.9309493362512627,\n",
       " 0.964858736267844,\n",
       " 1.0000000000000002]"
      ]
     },
     "execution_count": 421,
     "metadata": {},
     "output_type": "execute_result"
    }
   ],
   "source": [
    "X[0]"
   ]
  },
  {
   "cell_type": "code",
   "execution_count": 422,
   "id": "a96ccadf",
   "metadata": {},
   "outputs": [
    {
     "data": {
      "image/png": "[encoded data removed]",
      "text/plain": [
       "<Figure size 432x288 with 1 Axes>"
      ]
     },
     "metadata": {
      "needs_background": "light"
     },
     "output_type": "display_data"
    }
   ],
   "source": [
    "import matplotlib.pyplot as plt\n",
    "\n",
    "plt.ylabel(\"cosine similiarity\")\n",
    "plt.xlabel(\"cooperation factor\")\n",
    "\n",
    "plt.legend([])\n",
    "plt.title(\"Compare customer with req eng\")\n",
    "\n",
    "plt.plot(Y[0], X[0], label=\"customer_1 - req_eng\")\n",
    "plt.plot(Y[1], X[1], label=\"customer_1 - req_eng\")\n",
    "plt.plot(Y[2], X[2], label=\"customer_2 - req_eng\")\n",
    "\n",
    "plt.legend(loc=\"upper left\")\n",
    "plt.ylim(0, 1.0)\n",
    "\n",
    "plt.show()"
   ]
  },
  {
   "cell_type": "code",
   "execution_count": null,
   "id": "6369a2ff",
   "metadata": {},
   "outputs": [],
   "source": []
  }
 ],
 "metadata": {
  "kernelspec": {
   "display_name": "rule_based_extraction",
   "language": "python",
   "name": "python3"
  },
  "language_info": {
   "codemirror_mode": {
    "name": "ipython",
    "version": 3
   },
   "file_extension": ".py",
   "mimetype": "text/x-python",
   "name": "python",
   "nbconvert_exporter": "python",
   "pygments_lexer": "ipython3",
   "version": "3.8.13"
  },
  "vscode": {
   "interpreter": {
    "hash": "d7555fb2e6e5b0d2633949f9a8608e3258f39ad429911b18e940b6465887c988"
   }
  }
 },
 "nbformat": 4,
 "nbformat_minor": 5
}
